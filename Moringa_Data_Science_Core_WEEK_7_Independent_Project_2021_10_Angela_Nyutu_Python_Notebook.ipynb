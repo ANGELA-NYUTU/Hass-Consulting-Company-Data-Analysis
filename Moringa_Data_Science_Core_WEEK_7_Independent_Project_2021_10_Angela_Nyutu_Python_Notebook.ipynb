{
  "nbformat": 4,
  "nbformat_minor": 0,
  "metadata": {
    "colab": {
      "name": "Moringa_Data_Science_Core_WEEK_7_Independent_Project_2021_10_Angela_Nyutu_Python_Notebook.ipynb",
      "provenance": [],
      "collapsed_sections": [],
      "toc_visible": true,
      "authorship_tag": "ABX9TyNYKd+DEi+yWYFlbysNaUX5",
      "include_colab_link": true
    },
    "kernelspec": {
      "name": "python3",
      "display_name": "Python 3"
    },
    "language_info": {
      "name": "python"
    }
  },
  "cells": [
    {
      "cell_type": "markdown",
      "metadata": {
        "id": "view-in-github",
        "colab_type": "text"
      },
      "source": [
        "<a href=\"https://colab.research.google.com/github/ANGELA-NYUTU/Hass-Consulting-Company-Data-Analysis/blob/main/Moringa_Data_Science_Core_WEEK_7_Independent_Project_2021_10_Angela_Nyutu_Python_Notebook.ipynb\" target=\"_parent\"><img src=\"https://colab.research.google.com/assets/colab-badge.svg\" alt=\"Open In Colab\"/></a>"
      ]
    },
    {
      "cell_type": "markdown",
      "metadata": {
        "id": "Ier5QwZkGSB0"
      },
      "source": [
        "#**Hass Consulting Company: Data Analysis**"
      ]
    },
    {
      "cell_type": "markdown",
      "metadata": {
        "id": "xu0d2hsmonB0"
      },
      "source": [
        "## **Objective:**\n",
        "To study the factors that affect housing prices and create a model that would allow the company to accurately predict the prices given the predictor variablesi.e.property specs. "
      ]
    },
    {
      "cell_type": "markdown",
      "metadata": {
        "id": "FMCScwkdpU_T"
      },
      "source": [
        "## **Metric for Success**\n",
        "Develop a suitable model to predict property prices with an accuracy of atleast 70% \n"
      ]
    },
    {
      "cell_type": "markdown",
      "metadata": {
        "id": "RfWnTkUsrQQk"
      },
      "source": [
        "## **Context**\n",
        "The data is collected showing prices of various properties given the house features such as the square footage of the lot, number of stories, number of bathrooms and bedrooms, grade,and zipcode among others. The data has 21613 rows and 20 columns. This data will be used to create a model that accurately predict the prices of properties give the features"
      ]
    },
    {
      "cell_type": "markdown",
      "metadata": {
        "id": "9TnC4n1-rYxq"
      },
      "source": [
        "## **Experimental Design**\n",
        "\n",
        "Several experimental designs will be used i.e.:\n",
        "a.Exploratory data analysis\n",
        "b.regression anlysis with several models"
      ]
    },
    {
      "cell_type": "markdown",
      "metadata": {
        "id": "cyZQZRm9rgra"
      },
      "source": [
        "## **Dataset Loading and Preview**"
      ]
    },
    {
      "cell_type": "markdown",
      "metadata": {
        "id": "jJUrmb2Yr1E6"
      },
      "source": [
        "### **Importing Libraries**"
      ]
    },
    {
      "cell_type": "code",
      "metadata": {
        "id": "68TXzREWWE5k",
        "colab": {
          "base_uri": "https://localhost:8080/"
        },
        "outputId": "fd283ab4-eb46-4bdd-d840-480192506757"
      },
      "source": [
        "import pandas as pd\n",
        "import numpy as np\n",
        "import matplotlib.pyplot as plt\n",
        "import seaborn as sns\n",
        "# Regression Libraries libraries\n",
        "from sklearn.linear_model import LinearRegression\n",
        "import statsmodels.formula.api as smf\n",
        "from sklearn.linear_model import Ridge\n",
        "from sklearn.linear_model import Lasso\n",
        "from sklearn.linear_model import ElasticNet\n",
        "# Splitting Libraries\n",
        "from sklearn.model_selection import train_test_split\n",
        "from sklearn.model_selection import KFold\n",
        "from sklearn.model_selection import GridSearchCV\n",
        "#Accuracy Checking Libraries\n",
        "from sklearn import metrics\n",
        "from sklearn.preprocessing import StandardScaler\n",
        "from sklearn.model_selection import cross_val_score\n",
        "from scipy.stats import chi2\n",
        "from scipy.stats import bartlett"
      ],
      "execution_count": 66,
      "outputs": [
        {
          "output_type": "stream",
          "name": "stderr",
          "text": [
            "/usr/local/lib/python3.7/dist-packages/statsmodels/tools/_testing.py:19: FutureWarning: pandas.util.testing is deprecated. Use the functions in the public API at pandas.testing instead.\n",
            "  import pandas.util.testing as tm\n"
          ]
        }
      ]
    },
    {
      "cell_type": "markdown",
      "metadata": {
        "id": "gXr_cRf8r8Iq"
      },
      "source": [
        "### **Loading the Dataset**"
      ]
    },
    {
      "cell_type": "code",
      "metadata": {
        "id": "pw3AKJJ3WQxL"
      },
      "source": [
        "houseprices_df=pd.read_csv('/content/Independent Project Week 7 - house_data.csv')"
      ],
      "execution_count": 2,
      "outputs": []
    },
    {
      "cell_type": "markdown",
      "metadata": {
        "id": "cTwhNplesPfp"
      },
      "source": [
        "**Dataset Preview**"
      ]
    },
    {
      "cell_type": "markdown",
      "metadata": {
        "id": "2d3epIMttE5A"
      },
      "source": [
        "Top of the dataframe"
      ]
    },
    {
      "cell_type": "code",
      "metadata": {
        "colab": {
          "base_uri": "https://localhost:8080/",
          "height": 222
        },
        "id": "7IDuwOxEWt11",
        "outputId": "61e75304-2da8-42e6-faa7-c1851f5b40a8"
      },
      "source": [
        "houseprices_df.head()"
      ],
      "execution_count": 3,
      "outputs": [
        {
          "output_type": "execute_result",
          "data": {
            "text/html": [
              "<div>\n",
              "<style scoped>\n",
              "    .dataframe tbody tr th:only-of-type {\n",
              "        vertical-align: middle;\n",
              "    }\n",
              "\n",
              "    .dataframe tbody tr th {\n",
              "        vertical-align: top;\n",
              "    }\n",
              "\n",
              "    .dataframe thead th {\n",
              "        text-align: right;\n",
              "    }\n",
              "</style>\n",
              "<table border=\"1\" class=\"dataframe\">\n",
              "  <thead>\n",
              "    <tr style=\"text-align: right;\">\n",
              "      <th></th>\n",
              "      <th>id</th>\n",
              "      <th>price</th>\n",
              "      <th>bedrooms</th>\n",
              "      <th>bathrooms</th>\n",
              "      <th>sqft_living</th>\n",
              "      <th>sqft_lot</th>\n",
              "      <th>floors</th>\n",
              "      <th>waterfront</th>\n",
              "      <th>view</th>\n",
              "      <th>condition</th>\n",
              "      <th>grade</th>\n",
              "      <th>sqft_above</th>\n",
              "      <th>sqft_basement</th>\n",
              "      <th>yr_built</th>\n",
              "      <th>yr_renovated</th>\n",
              "      <th>zipcode</th>\n",
              "      <th>lat</th>\n",
              "      <th>long</th>\n",
              "      <th>sqft_living15</th>\n",
              "      <th>sqft_lot15</th>\n",
              "    </tr>\n",
              "  </thead>\n",
              "  <tbody>\n",
              "    <tr>\n",
              "      <th>0</th>\n",
              "      <td>7129300520</td>\n",
              "      <td>221900.0</td>\n",
              "      <td>3</td>\n",
              "      <td>1.00</td>\n",
              "      <td>1180</td>\n",
              "      <td>5650</td>\n",
              "      <td>1.0</td>\n",
              "      <td>0</td>\n",
              "      <td>0</td>\n",
              "      <td>3</td>\n",
              "      <td>7</td>\n",
              "      <td>1180</td>\n",
              "      <td>0</td>\n",
              "      <td>1955</td>\n",
              "      <td>0</td>\n",
              "      <td>98178</td>\n",
              "      <td>47.5112</td>\n",
              "      <td>-122.257</td>\n",
              "      <td>1340</td>\n",
              "      <td>5650</td>\n",
              "    </tr>\n",
              "    <tr>\n",
              "      <th>1</th>\n",
              "      <td>6414100192</td>\n",
              "      <td>538000.0</td>\n",
              "      <td>3</td>\n",
              "      <td>2.25</td>\n",
              "      <td>2570</td>\n",
              "      <td>7242</td>\n",
              "      <td>2.0</td>\n",
              "      <td>0</td>\n",
              "      <td>0</td>\n",
              "      <td>3</td>\n",
              "      <td>7</td>\n",
              "      <td>2170</td>\n",
              "      <td>400</td>\n",
              "      <td>1951</td>\n",
              "      <td>1991</td>\n",
              "      <td>98125</td>\n",
              "      <td>47.7210</td>\n",
              "      <td>-122.319</td>\n",
              "      <td>1690</td>\n",
              "      <td>7639</td>\n",
              "    </tr>\n",
              "    <tr>\n",
              "      <th>2</th>\n",
              "      <td>5631500400</td>\n",
              "      <td>180000.0</td>\n",
              "      <td>2</td>\n",
              "      <td>1.00</td>\n",
              "      <td>770</td>\n",
              "      <td>10000</td>\n",
              "      <td>1.0</td>\n",
              "      <td>0</td>\n",
              "      <td>0</td>\n",
              "      <td>3</td>\n",
              "      <td>6</td>\n",
              "      <td>770</td>\n",
              "      <td>0</td>\n",
              "      <td>1933</td>\n",
              "      <td>0</td>\n",
              "      <td>98028</td>\n",
              "      <td>47.7379</td>\n",
              "      <td>-122.233</td>\n",
              "      <td>2720</td>\n",
              "      <td>8062</td>\n",
              "    </tr>\n",
              "    <tr>\n",
              "      <th>3</th>\n",
              "      <td>2487200875</td>\n",
              "      <td>604000.0</td>\n",
              "      <td>4</td>\n",
              "      <td>3.00</td>\n",
              "      <td>1960</td>\n",
              "      <td>5000</td>\n",
              "      <td>1.0</td>\n",
              "      <td>0</td>\n",
              "      <td>0</td>\n",
              "      <td>5</td>\n",
              "      <td>7</td>\n",
              "      <td>1050</td>\n",
              "      <td>910</td>\n",
              "      <td>1965</td>\n",
              "      <td>0</td>\n",
              "      <td>98136</td>\n",
              "      <td>47.5208</td>\n",
              "      <td>-122.393</td>\n",
              "      <td>1360</td>\n",
              "      <td>5000</td>\n",
              "    </tr>\n",
              "    <tr>\n",
              "      <th>4</th>\n",
              "      <td>1954400510</td>\n",
              "      <td>510000.0</td>\n",
              "      <td>3</td>\n",
              "      <td>2.00</td>\n",
              "      <td>1680</td>\n",
              "      <td>8080</td>\n",
              "      <td>1.0</td>\n",
              "      <td>0</td>\n",
              "      <td>0</td>\n",
              "      <td>3</td>\n",
              "      <td>8</td>\n",
              "      <td>1680</td>\n",
              "      <td>0</td>\n",
              "      <td>1987</td>\n",
              "      <td>0</td>\n",
              "      <td>98074</td>\n",
              "      <td>47.6168</td>\n",
              "      <td>-122.045</td>\n",
              "      <td>1800</td>\n",
              "      <td>7503</td>\n",
              "    </tr>\n",
              "  </tbody>\n",
              "</table>\n",
              "</div>"
            ],
            "text/plain": [
              "           id     price  bedrooms  ...     long  sqft_living15  sqft_lot15\n",
              "0  7129300520  221900.0         3  ... -122.257           1340        5650\n",
              "1  6414100192  538000.0         3  ... -122.319           1690        7639\n",
              "2  5631500400  180000.0         2  ... -122.233           2720        8062\n",
              "3  2487200875  604000.0         4  ... -122.393           1360        5000\n",
              "4  1954400510  510000.0         3  ... -122.045           1800        7503\n",
              "\n",
              "[5 rows x 20 columns]"
            ]
          },
          "metadata": {},
          "execution_count": 3
        }
      ]
    },
    {
      "cell_type": "markdown",
      "metadata": {
        "id": "BYKm2E2PtORT"
      },
      "source": [
        "Bottom of the Dataframe"
      ]
    },
    {
      "cell_type": "code",
      "metadata": {
        "colab": {
          "base_uri": "https://localhost:8080/",
          "height": 222
        },
        "id": "owOnqzBhWxGj",
        "outputId": "3a88bd0a-847e-427e-e4b3-cfde5dcc9df0"
      },
      "source": [
        "houseprices_df.tail()"
      ],
      "execution_count": 4,
      "outputs": [
        {
          "output_type": "execute_result",
          "data": {
            "text/html": [
              "<div>\n",
              "<style scoped>\n",
              "    .dataframe tbody tr th:only-of-type {\n",
              "        vertical-align: middle;\n",
              "    }\n",
              "\n",
              "    .dataframe tbody tr th {\n",
              "        vertical-align: top;\n",
              "    }\n",
              "\n",
              "    .dataframe thead th {\n",
              "        text-align: right;\n",
              "    }\n",
              "</style>\n",
              "<table border=\"1\" class=\"dataframe\">\n",
              "  <thead>\n",
              "    <tr style=\"text-align: right;\">\n",
              "      <th></th>\n",
              "      <th>id</th>\n",
              "      <th>price</th>\n",
              "      <th>bedrooms</th>\n",
              "      <th>bathrooms</th>\n",
              "      <th>sqft_living</th>\n",
              "      <th>sqft_lot</th>\n",
              "      <th>floors</th>\n",
              "      <th>waterfront</th>\n",
              "      <th>view</th>\n",
              "      <th>condition</th>\n",
              "      <th>grade</th>\n",
              "      <th>sqft_above</th>\n",
              "      <th>sqft_basement</th>\n",
              "      <th>yr_built</th>\n",
              "      <th>yr_renovated</th>\n",
              "      <th>zipcode</th>\n",
              "      <th>lat</th>\n",
              "      <th>long</th>\n",
              "      <th>sqft_living15</th>\n",
              "      <th>sqft_lot15</th>\n",
              "    </tr>\n",
              "  </thead>\n",
              "  <tbody>\n",
              "    <tr>\n",
              "      <th>21608</th>\n",
              "      <td>263000018</td>\n",
              "      <td>360000.0</td>\n",
              "      <td>3</td>\n",
              "      <td>2.50</td>\n",
              "      <td>1530</td>\n",
              "      <td>1131</td>\n",
              "      <td>3.0</td>\n",
              "      <td>0</td>\n",
              "      <td>0</td>\n",
              "      <td>3</td>\n",
              "      <td>8</td>\n",
              "      <td>1530</td>\n",
              "      <td>0</td>\n",
              "      <td>2009</td>\n",
              "      <td>0</td>\n",
              "      <td>98103</td>\n",
              "      <td>47.6993</td>\n",
              "      <td>-122.346</td>\n",
              "      <td>1530</td>\n",
              "      <td>1509</td>\n",
              "    </tr>\n",
              "    <tr>\n",
              "      <th>21609</th>\n",
              "      <td>6600060120</td>\n",
              "      <td>400000.0</td>\n",
              "      <td>4</td>\n",
              "      <td>2.50</td>\n",
              "      <td>2310</td>\n",
              "      <td>5813</td>\n",
              "      <td>2.0</td>\n",
              "      <td>0</td>\n",
              "      <td>0</td>\n",
              "      <td>3</td>\n",
              "      <td>8</td>\n",
              "      <td>2310</td>\n",
              "      <td>0</td>\n",
              "      <td>2014</td>\n",
              "      <td>0</td>\n",
              "      <td>98146</td>\n",
              "      <td>47.5107</td>\n",
              "      <td>-122.362</td>\n",
              "      <td>1830</td>\n",
              "      <td>7200</td>\n",
              "    </tr>\n",
              "    <tr>\n",
              "      <th>21610</th>\n",
              "      <td>1523300141</td>\n",
              "      <td>402101.0</td>\n",
              "      <td>2</td>\n",
              "      <td>0.75</td>\n",
              "      <td>1020</td>\n",
              "      <td>1350</td>\n",
              "      <td>2.0</td>\n",
              "      <td>0</td>\n",
              "      <td>0</td>\n",
              "      <td>3</td>\n",
              "      <td>7</td>\n",
              "      <td>1020</td>\n",
              "      <td>0</td>\n",
              "      <td>2009</td>\n",
              "      <td>0</td>\n",
              "      <td>98144</td>\n",
              "      <td>47.5944</td>\n",
              "      <td>-122.299</td>\n",
              "      <td>1020</td>\n",
              "      <td>2007</td>\n",
              "    </tr>\n",
              "    <tr>\n",
              "      <th>21611</th>\n",
              "      <td>291310100</td>\n",
              "      <td>400000.0</td>\n",
              "      <td>3</td>\n",
              "      <td>2.50</td>\n",
              "      <td>1600</td>\n",
              "      <td>2388</td>\n",
              "      <td>2.0</td>\n",
              "      <td>0</td>\n",
              "      <td>0</td>\n",
              "      <td>3</td>\n",
              "      <td>8</td>\n",
              "      <td>1600</td>\n",
              "      <td>0</td>\n",
              "      <td>2004</td>\n",
              "      <td>0</td>\n",
              "      <td>98027</td>\n",
              "      <td>47.5345</td>\n",
              "      <td>-122.069</td>\n",
              "      <td>1410</td>\n",
              "      <td>1287</td>\n",
              "    </tr>\n",
              "    <tr>\n",
              "      <th>21612</th>\n",
              "      <td>1523300157</td>\n",
              "      <td>325000.0</td>\n",
              "      <td>2</td>\n",
              "      <td>0.75</td>\n",
              "      <td>1020</td>\n",
              "      <td>1076</td>\n",
              "      <td>2.0</td>\n",
              "      <td>0</td>\n",
              "      <td>0</td>\n",
              "      <td>3</td>\n",
              "      <td>7</td>\n",
              "      <td>1020</td>\n",
              "      <td>0</td>\n",
              "      <td>2008</td>\n",
              "      <td>0</td>\n",
              "      <td>98144</td>\n",
              "      <td>47.5941</td>\n",
              "      <td>-122.299</td>\n",
              "      <td>1020</td>\n",
              "      <td>1357</td>\n",
              "    </tr>\n",
              "  </tbody>\n",
              "</table>\n",
              "</div>"
            ],
            "text/plain": [
              "               id     price  bedrooms  ...     long  sqft_living15  sqft_lot15\n",
              "21608   263000018  360000.0         3  ... -122.346           1530        1509\n",
              "21609  6600060120  400000.0         4  ... -122.362           1830        7200\n",
              "21610  1523300141  402101.0         2  ... -122.299           1020        2007\n",
              "21611   291310100  400000.0         3  ... -122.069           1410        1287\n",
              "21612  1523300157  325000.0         2  ... -122.299           1020        1357\n",
              "\n",
              "[5 rows x 20 columns]"
            ]
          },
          "metadata": {},
          "execution_count": 4
        }
      ]
    },
    {
      "cell_type": "markdown",
      "metadata": {
        "id": "k53kAXUPs22C"
      },
      "source": [
        "Size"
      ]
    },
    {
      "cell_type": "code",
      "metadata": {
        "colab": {
          "base_uri": "https://localhost:8080/"
        },
        "id": "1ZuX3pHeWzuF",
        "outputId": "4c9cf0f2-648c-47ac-dc51-3f784ce1b26e"
      },
      "source": [
        "#Checking for the shape of the dataframe\n",
        "print('The dataset has'+ str (houseprices_df.columns.shape)+'columns and' +str (houseprices_df.index.shape) +'rows')"
      ],
      "execution_count": 5,
      "outputs": [
        {
          "output_type": "stream",
          "name": "stdout",
          "text": [
            "The dataset has(20,)columns and(21613,)rows\n"
          ]
        }
      ]
    },
    {
      "cell_type": "code",
      "metadata": {
        "colab": {
          "base_uri": "https://localhost:8080/"
        },
        "id": "poqn-_rgXQ3c",
        "outputId": "43cccbe7-c244-4ca9-e3ed-8e22cfdececf"
      },
      "source": [
        "houseprices_df.index.shape"
      ],
      "execution_count": 6,
      "outputs": [
        {
          "output_type": "execute_result",
          "data": {
            "text/plain": [
              "(21613,)"
            ]
          },
          "metadata": {},
          "execution_count": 6
        }
      ]
    },
    {
      "cell_type": "markdown",
      "metadata": {
        "id": "ThnBMfcYs9oq"
      },
      "source": [
        "Data Types"
      ]
    },
    {
      "cell_type": "code",
      "metadata": {
        "colab": {
          "base_uri": "https://localhost:8080/"
        },
        "id": "uR_VgoySW12-",
        "outputId": "bcd90fcc-ca3f-404e-bb0d-f859071c55c1"
      },
      "source": [
        "#Checking for data types\n",
        "houseprices_df.dtypes\n",
        "#It appears that the dataframe has got only numerical data."
      ],
      "execution_count": 7,
      "outputs": [
        {
          "output_type": "execute_result",
          "data": {
            "text/plain": [
              "id                 int64\n",
              "price            float64\n",
              "bedrooms           int64\n",
              "bathrooms        float64\n",
              "sqft_living        int64\n",
              "sqft_lot           int64\n",
              "floors           float64\n",
              "waterfront         int64\n",
              "view               int64\n",
              "condition          int64\n",
              "grade              int64\n",
              "sqft_above         int64\n",
              "sqft_basement      int64\n",
              "yr_built           int64\n",
              "yr_renovated       int64\n",
              "zipcode            int64\n",
              "lat              float64\n",
              "long             float64\n",
              "sqft_living15      int64\n",
              "sqft_lot15         int64\n",
              "dtype: object"
            ]
          },
          "metadata": {},
          "execution_count": 7
        }
      ]
    },
    {
      "cell_type": "markdown",
      "metadata": {
        "id": "nqyyCASstA5M"
      },
      "source": [
        "Columns"
      ]
    },
    {
      "cell_type": "code",
      "metadata": {
        "colab": {
          "base_uri": "https://localhost:8080/"
        },
        "id": "fJ7S4UylYpbH",
        "outputId": "5aa28aaa-4226-4848-a290-786167380fd9"
      },
      "source": [
        "#Viewing the column names in the dataframe\n",
        "houseprices_df.columns.unique()"
      ],
      "execution_count": 8,
      "outputs": [
        {
          "output_type": "execute_result",
          "data": {
            "text/plain": [
              "Index(['id', 'price', 'bedrooms', 'bathrooms', 'sqft_living', 'sqft_lot',\n",
              "       'floors', 'waterfront', 'view', 'condition', 'grade', 'sqft_above',\n",
              "       'sqft_basement', 'yr_built', 'yr_renovated', 'zipcode', 'lat', 'long',\n",
              "       'sqft_living15', 'sqft_lot15'],\n",
              "      dtype='object')"
            ]
          },
          "metadata": {},
          "execution_count": 8
        }
      ]
    },
    {
      "cell_type": "markdown",
      "metadata": {
        "id": "SblsbFXrsDgK"
      },
      "source": [
        "## **Dataset Cleaning**"
      ]
    },
    {
      "cell_type": "markdown",
      "metadata": {
        "id": "Eza-McG8sJ0Z"
      },
      "source": [
        "**Missing Values**"
      ]
    },
    {
      "cell_type": "code",
      "metadata": {
        "colab": {
          "base_uri": "https://localhost:8080/"
        },
        "id": "a7H1YalkY6dT",
        "outputId": "48fbf8f0-856e-415e-fb81-22d4820d3e0a"
      },
      "source": [
        "houseprices_df.isnull().values.sum()\n",
        "#The dataframe has no missing values"
      ],
      "execution_count": 85,
      "outputs": [
        {
          "output_type": "execute_result",
          "data": {
            "text/plain": [
              "0"
            ]
          },
          "metadata": {},
          "execution_count": 85
        }
      ]
    },
    {
      "cell_type": "markdown",
      "metadata": {
        "id": "GzHZ4cGJsg7F"
      },
      "source": [
        "**Duplicated Values**"
      ]
    },
    {
      "cell_type": "code",
      "metadata": {
        "colab": {
          "base_uri": "https://localhost:8080/"
        },
        "id": "Of0KL7NVZGL2",
        "outputId": "24adb315-865e-4c86-9dcb-4d3a0dc8b005"
      },
      "source": [
        "houseprices_df.duplicated().values.sum()\n",
        "#There are three duplicated values"
      ],
      "execution_count": 10,
      "outputs": [
        {
          "output_type": "execute_result",
          "data": {
            "text/plain": [
              "3"
            ]
          },
          "metadata": {},
          "execution_count": 10
        }
      ]
    },
    {
      "cell_type": "code",
      "metadata": {
        "colab": {
          "base_uri": "https://localhost:8080/"
        },
        "id": "A2zT9Nb-ZW2z",
        "outputId": "d8cf46a3-ba73-4193-cd24-f418a7e26723"
      },
      "source": [
        "#Dropping the duplicates\n",
        "houseprices_df.drop_duplicates(inplace=True)\n",
        "houseprices_df.duplicated().values.sum()"
      ],
      "execution_count": 11,
      "outputs": [
        {
          "output_type": "execute_result",
          "data": {
            "text/plain": [
              "0"
            ]
          },
          "metadata": {},
          "execution_count": 11
        }
      ]
    },
    {
      "cell_type": "markdown",
      "metadata": {
        "id": "_QoDTXoMsofB"
      },
      "source": [
        "**Outliers**"
      ]
    },
    {
      "cell_type": "code",
      "metadata": {
        "id": "ZdkTbh3Od-WN"
      },
      "source": [
        "#Drop unnecessary columns\n",
        "houseprices_df.drop('id',axis=1,inplace=True)"
      ],
      "execution_count": 12,
      "outputs": []
    },
    {
      "cell_type": "code",
      "metadata": {
        "colab": {
          "base_uri": "https://localhost:8080/",
          "height": 457
        },
        "id": "F9jLSVjaZ07p",
        "outputId": "0208d110-e64b-499a-cf9f-90d63c0bcdaa"
      },
      "source": [
        "#Checking for outliers\n",
        "houseprices_df.boxplot(figsize=(17,7))\n",
        "#Outliers appear in columns prices,sqreft lot and sqrft living15. They will not be dropped because they lead to massive amounts of missing values."
      ],
      "execution_count": 13,
      "outputs": [
        {
          "output_type": "execute_result",
          "data": {
            "text/plain": [
              "<matplotlib.axes._subplots.AxesSubplot at 0x7fbf20d54890>"
            ]
          },
          "metadata": {},
          "execution_count": 13
        },
        {
          "output_type": "display_data",
          "data": {
            "image/png": "[encoded data removed]",
            "text/plain": [
              "<Figure size 1224x504 with 1 Axes>"
            ]
          },
          "metadata": {
            "needs_background": "light"
          }
        }
      ]
    },
    {
      "cell_type": "markdown",
      "metadata": {
        "id": "k7pieiLOsv1g"
      },
      "source": [
        "**Columns**"
      ]
    },
    {
      "cell_type": "code",
      "metadata": {
        "id": "zJ57X9gra4_J"
      },
      "source": [
        "#Tyding up the column names\n",
        "houseprices_df.columns = houseprices_df.columns.str.strip().str.title().str.replace(' ', '_').str.replace('(', '').str.replace(')', '')"
      ],
      "execution_count": 14,
      "outputs": []
    },
    {
      "cell_type": "code",
      "metadata": {
        "colab": {
          "base_uri": "https://localhost:8080/"
        },
        "id": "wm9Z4wiqbCsW",
        "outputId": "3c9f6c0d-2d2a-4c08-81d7-3fd1be8eb316"
      },
      "source": [
        "houseprices_df.columns.unique()"
      ],
      "execution_count": 15,
      "outputs": [
        {
          "output_type": "execute_result",
          "data": {
            "text/plain": [
              "Index(['Price', 'Bedrooms', 'Bathrooms', 'Sqft_Living', 'Sqft_Lot', 'Floors',\n",
              "       'Waterfront', 'View', 'Condition', 'Grade', 'Sqft_Above',\n",
              "       'Sqft_Basement', 'Yr_Built', 'Yr_Renovated', 'Zipcode', 'Lat', 'Long',\n",
              "       'Sqft_Living15', 'Sqft_Lot15'],\n",
              "      dtype='object')"
            ]
          },
          "metadata": {},
          "execution_count": 15
        }
      ]
    },
    {
      "cell_type": "markdown",
      "metadata": {
        "id": "wAoQLeCotUz5"
      },
      "source": [
        "##**Exploratory Data Analysis**"
      ]
    },
    {
      "cell_type": "markdown",
      "metadata": {
        "id": "6bqB4-Ysto-6"
      },
      "source": [
        "### **Univariate Analysis**"
      ]
    },
    {
      "cell_type": "code",
      "metadata": {
        "colab": {
          "base_uri": "https://localhost:8080/",
          "height": 314
        },
        "id": "-M_pnJKvk707",
        "outputId": "2de8d43c-bc0b-493c-fa7e-5e563d01c78b"
      },
      "source": [
        "#Descibing the columns\n",
        "houseprices_df.describe()"
      ],
      "execution_count": 16,
      "outputs": [
        {
          "output_type": "execute_result",
          "data": {
            "text/html": [
              "<div>\n",
              "<style scoped>\n",
              "    .dataframe tbody tr th:only-of-type {\n",
              "        vertical-align: middle;\n",
              "    }\n",
              "\n",
              "    .dataframe tbody tr th {\n",
              "        vertical-align: top;\n",
              "    }\n",
              "\n",
              "    .dataframe thead th {\n",
              "        text-align: right;\n",
              "    }\n",
              "</style>\n",
              "<table border=\"1\" class=\"dataframe\">\n",
              "  <thead>\n",
              "    <tr style=\"text-align: right;\">\n",
              "      <th></th>\n",
              "      <th>Price</th>\n",
              "      <th>Bedrooms</th>\n",
              "      <th>Bathrooms</th>\n",
              "      <th>Sqft_Living</th>\n",
              "      <th>Sqft_Lot</th>\n",
              "      <th>Floors</th>\n",
              "      <th>Waterfront</th>\n",
              "      <th>View</th>\n",
              "      <th>Condition</th>\n",
              "      <th>Grade</th>\n",
              "      <th>Sqft_Above</th>\n",
              "      <th>Sqft_Basement</th>\n",
              "      <th>Yr_Built</th>\n",
              "      <th>Yr_Renovated</th>\n",
              "      <th>Zipcode</th>\n",
              "      <th>Lat</th>\n",
              "      <th>Long</th>\n",
              "      <th>Sqft_Living15</th>\n",
              "      <th>Sqft_Lot15</th>\n",
              "    </tr>\n",
              "  </thead>\n",
              "  <tbody>\n",
              "    <tr>\n",
              "      <th>count</th>\n",
              "      <td>2.161000e+04</td>\n",
              "      <td>21610.000000</td>\n",
              "      <td>21610.000000</td>\n",
              "      <td>21610.000000</td>\n",
              "      <td>2.161000e+04</td>\n",
              "      <td>21610.000000</td>\n",
              "      <td>21610.000000</td>\n",
              "      <td>21610.000000</td>\n",
              "      <td>21610.000000</td>\n",
              "      <td>21610.000000</td>\n",
              "      <td>21610.000000</td>\n",
              "      <td>21610.000000</td>\n",
              "      <td>21610.000000</td>\n",
              "      <td>21610.000000</td>\n",
              "      <td>21610.000000</td>\n",
              "      <td>21610.000000</td>\n",
              "      <td>21610.000000</td>\n",
              "      <td>21610.000000</td>\n",
              "      <td>21610.000000</td>\n",
              "    </tr>\n",
              "    <tr>\n",
              "      <th>mean</th>\n",
              "      <td>5.401789e+05</td>\n",
              "      <td>3.370847</td>\n",
              "      <td>2.114739</td>\n",
              "      <td>2079.881212</td>\n",
              "      <td>1.510829e+04</td>\n",
              "      <td>1.494239</td>\n",
              "      <td>0.007543</td>\n",
              "      <td>0.234197</td>\n",
              "      <td>3.409440</td>\n",
              "      <td>7.656779</td>\n",
              "      <td>1788.347894</td>\n",
              "      <td>291.533318</td>\n",
              "      <td>1971.003609</td>\n",
              "      <td>84.322351</td>\n",
              "      <td>98077.945673</td>\n",
              "      <td>47.560049</td>\n",
              "      <td>-122.213910</td>\n",
              "      <td>1986.518695</td>\n",
              "      <td>12769.031976</td>\n",
              "    </tr>\n",
              "    <tr>\n",
              "      <th>std</th>\n",
              "      <td>3.673876e+05</td>\n",
              "      <td>0.930110</td>\n",
              "      <td>0.770204</td>\n",
              "      <td>918.500299</td>\n",
              "      <td>4.142323e+04</td>\n",
              "      <td>0.539994</td>\n",
              "      <td>0.086523</td>\n",
              "      <td>0.766136</td>\n",
              "      <td>0.650764</td>\n",
              "      <td>1.175500</td>\n",
              "      <td>828.138723</td>\n",
              "      <td>442.596699</td>\n",
              "      <td>29.372639</td>\n",
              "      <td>401.499264</td>\n",
              "      <td>53.505373</td>\n",
              "      <td>0.138572</td>\n",
              "      <td>0.140833</td>\n",
              "      <td>685.425781</td>\n",
              "      <td>27305.972464</td>\n",
              "    </tr>\n",
              "    <tr>\n",
              "      <th>min</th>\n",
              "      <td>7.500000e+04</td>\n",
              "      <td>0.000000</td>\n",
              "      <td>0.000000</td>\n",
              "      <td>290.000000</td>\n",
              "      <td>5.200000e+02</td>\n",
              "      <td>1.000000</td>\n",
              "      <td>0.000000</td>\n",
              "      <td>0.000000</td>\n",
              "      <td>1.000000</td>\n",
              "      <td>1.000000</td>\n",
              "      <td>290.000000</td>\n",
              "      <td>0.000000</td>\n",
              "      <td>1900.000000</td>\n",
              "      <td>0.000000</td>\n",
              "      <td>98001.000000</td>\n",
              "      <td>47.155900</td>\n",
              "      <td>-122.519000</td>\n",
              "      <td>399.000000</td>\n",
              "      <td>651.000000</td>\n",
              "    </tr>\n",
              "    <tr>\n",
              "      <th>25%</th>\n",
              "      <td>3.216125e+05</td>\n",
              "      <td>3.000000</td>\n",
              "      <td>1.750000</td>\n",
              "      <td>1425.500000</td>\n",
              "      <td>5.040000e+03</td>\n",
              "      <td>1.000000</td>\n",
              "      <td>0.000000</td>\n",
              "      <td>0.000000</td>\n",
              "      <td>3.000000</td>\n",
              "      <td>7.000000</td>\n",
              "      <td>1190.000000</td>\n",
              "      <td>0.000000</td>\n",
              "      <td>1951.000000</td>\n",
              "      <td>0.000000</td>\n",
              "      <td>98033.000000</td>\n",
              "      <td>47.470925</td>\n",
              "      <td>-122.328000</td>\n",
              "      <td>1490.000000</td>\n",
              "      <td>5100.000000</td>\n",
              "    </tr>\n",
              "    <tr>\n",
              "      <th>50%</th>\n",
              "      <td>4.500000e+05</td>\n",
              "      <td>3.000000</td>\n",
              "      <td>2.250000</td>\n",
              "      <td>1910.000000</td>\n",
              "      <td>7.619000e+03</td>\n",
              "      <td>1.500000</td>\n",
              "      <td>0.000000</td>\n",
              "      <td>0.000000</td>\n",
              "      <td>3.000000</td>\n",
              "      <td>7.000000</td>\n",
              "      <td>1560.000000</td>\n",
              "      <td>0.000000</td>\n",
              "      <td>1975.000000</td>\n",
              "      <td>0.000000</td>\n",
              "      <td>98065.000000</td>\n",
              "      <td>47.571800</td>\n",
              "      <td>-122.231000</td>\n",
              "      <td>1840.000000</td>\n",
              "      <td>7620.000000</td>\n",
              "    </tr>\n",
              "    <tr>\n",
              "      <th>75%</th>\n",
              "      <td>6.450000e+05</td>\n",
              "      <td>4.000000</td>\n",
              "      <td>2.500000</td>\n",
              "      <td>2550.000000</td>\n",
              "      <td>1.068875e+04</td>\n",
              "      <td>2.000000</td>\n",
              "      <td>0.000000</td>\n",
              "      <td>0.000000</td>\n",
              "      <td>4.000000</td>\n",
              "      <td>8.000000</td>\n",
              "      <td>2210.000000</td>\n",
              "      <td>560.000000</td>\n",
              "      <td>1997.000000</td>\n",
              "      <td>0.000000</td>\n",
              "      <td>98118.000000</td>\n",
              "      <td>47.678000</td>\n",
              "      <td>-122.125000</td>\n",
              "      <td>2360.000000</td>\n",
              "      <td>10083.000000</td>\n",
              "    </tr>\n",
              "    <tr>\n",
              "      <th>max</th>\n",
              "      <td>7.700000e+06</td>\n",
              "      <td>33.000000</td>\n",
              "      <td>8.000000</td>\n",
              "      <td>13540.000000</td>\n",
              "      <td>1.651359e+06</td>\n",
              "      <td>3.500000</td>\n",
              "      <td>1.000000</td>\n",
              "      <td>4.000000</td>\n",
              "      <td>5.000000</td>\n",
              "      <td>13.000000</td>\n",
              "      <td>9410.000000</td>\n",
              "      <td>4820.000000</td>\n",
              "      <td>2015.000000</td>\n",
              "      <td>2015.000000</td>\n",
              "      <td>98199.000000</td>\n",
              "      <td>47.777600</td>\n",
              "      <td>-121.315000</td>\n",
              "      <td>6210.000000</td>\n",
              "      <td>871200.000000</td>\n",
              "    </tr>\n",
              "  </tbody>\n",
              "</table>\n",
              "</div>"
            ],
            "text/plain": [
              "              Price      Bedrooms  ...  Sqft_Living15     Sqft_Lot15\n",
              "count  2.161000e+04  21610.000000  ...   21610.000000   21610.000000\n",
              "mean   5.401789e+05      3.370847  ...    1986.518695   12769.031976\n",
              "std    3.673876e+05      0.930110  ...     685.425781   27305.972464\n",
              "min    7.500000e+04      0.000000  ...     399.000000     651.000000\n",
              "25%    3.216125e+05      3.000000  ...    1490.000000    5100.000000\n",
              "50%    4.500000e+05      3.000000  ...    1840.000000    7620.000000\n",
              "75%    6.450000e+05      4.000000  ...    2360.000000   10083.000000\n",
              "max    7.700000e+06     33.000000  ...    6210.000000  871200.000000\n",
              "\n",
              "[8 rows x 19 columns]"
            ]
          },
          "metadata": {},
          "execution_count": 16
        }
      ]
    },
    {
      "cell_type": "code",
      "metadata": {
        "colab": {
          "base_uri": "https://localhost:8080/"
        },
        "id": "zp8fwJozlJKJ",
        "outputId": "4500ef8c-1523-47cf-e859-63d6d401a1ac"
      },
      "source": [
        "#Mode number of bedrooms\n",
        "houseprices_df['Bedrooms'].median()"
      ],
      "execution_count": 17,
      "outputs": [
        {
          "output_type": "execute_result",
          "data": {
            "text/plain": [
              "3.0"
            ]
          },
          "metadata": {},
          "execution_count": 17
        }
      ]
    },
    {
      "cell_type": "code",
      "metadata": {
        "id": "S9_RdGoylcBX"
      },
      "source": [
        "def pie(df,column):\n",
        "  data=df[column].value_counts()\n",
        "  sns.set(font_scale=1.4)\n",
        "  plt.figure(figsize=(7,6))\n",
        "  pie=data.plot.pie(autopct='%.1f%%',labels=(df[column].unique()),startangle=0)\n",
        "  plt.axis('equal')\n",
        "  plt.show()\n",
        "  return plt.show()"
      ],
      "execution_count": 18,
      "outputs": []
    },
    {
      "cell_type": "code",
      "metadata": {
        "colab": {
          "base_uri": "https://localhost:8080/",
          "height": 364
        },
        "id": "aoMN_s3LmH4W",
        "outputId": "69fbf097-dcb0-4ad6-bdc4-b262aebb5c36"
      },
      "source": [
        "pie(houseprices_df,'Floors')"
      ],
      "execution_count": 19,
      "outputs": [
        {
          "output_type": "display_data",
          "data": {
            "image/png": "[encoded data removed]",
            "text/plain": [
              "<Figure size 504x432 with 1 Axes>"
            ]
          },
          "metadata": {}
        }
      ]
    },
    {
      "cell_type": "markdown",
      "metadata": {
        "id": "8vdJOpbdnIlJ"
      },
      "source": [
        "49.4% of the properties have a 1 floor,38.1% have 2 floors,2.8% have 3 floors,8.8 have 1.5 floors and 0.7% properties have 2.5 floors"
      ]
    },
    {
      "cell_type": "code",
      "metadata": {
        "id": "q6Iq34MJpWax",
        "colab": {
          "base_uri": "https://localhost:8080/",
          "height": 357
        },
        "outputId": "70852c2e-5e8d-48d9-f54b-832cb71c4e42"
      },
      "source": [
        "pie(houseprices_df,'View')"
      ],
      "execution_count": 20,
      "outputs": [
        {
          "output_type": "display_data",
          "data": {
            "image/png": "[encoded data removed]",
            "text/plain": [
              "<Figure size 504x432 with 1 Axes>"
            ]
          },
          "metadata": {}
        }
      ]
    },
    {
      "cell_type": "markdown",
      "metadata": {
        "id": "b_SfbBuZejiS"
      },
      "source": [
        "90.2% of the properties have not been viewed, while 4.5% have had 3 viewings,2.4% having been views twice and 1.5% having been viewed once"
      ]
    },
    {
      "cell_type": "code",
      "metadata": {
        "colab": {
          "base_uri": "https://localhost:8080/",
          "height": 357
        },
        "id": "0eaMNpspe3y2",
        "outputId": "eb636ec5-9ea7-43ef-dadd-989d73a5df46"
      },
      "source": [
        "pie(houseprices_df,'Waterfront')"
      ],
      "execution_count": 21,
      "outputs": [
        {
          "output_type": "display_data",
          "data": {
            "image/png": "[encoded data removed]",
            "text/plain": [
              "<Figure size 504x432 with 1 Axes>"
            ]
          },
          "metadata": {}
        }
      ]
    },
    {
      "cell_type": "markdown",
      "metadata": {
        "id": "cDY1puNNfCG_"
      },
      "source": [
        "Only 0.8% properties have a waterfront view"
      ]
    },
    {
      "cell_type": "code",
      "metadata": {
        "colab": {
          "base_uri": "https://localhost:8080/",
          "height": 360
        },
        "id": "btJY5u7UfP3h",
        "outputId": "29f0da44-7b6f-4224-b442-11305a6d671b"
      },
      "source": [
        "pie(houseprices_df,'Condition')"
      ],
      "execution_count": 22,
      "outputs": [
        {
          "output_type": "display_data",
          "data": {
            "image/png": "[encoded data removed]",
            "text/plain": [
              "<Figure size 504x432 with 1 Axes>"
            ]
          },
          "metadata": {}
        }
      ]
    },
    {
      "cell_type": "markdown",
      "metadata": {
        "id": "Cfq66MHlftpF"
      },
      "source": [
        "Properties are of diiferent conditions i.e. 1,2,3,4,5. 64.9% of these properties are in condition rank 3,26% being in rank no5,7.9% properties having been ranked at condition 4."
      ]
    },
    {
      "cell_type": "markdown",
      "metadata": {
        "id": "kux9X7fcttWu"
      },
      "source": [
        "### **Bivariate Analysis**"
      ]
    },
    {
      "cell_type": "code",
      "metadata": {
        "colab": {
          "base_uri": "https://localhost:8080/",
          "height": 310
        },
        "id": "xmExTlnvgLeb",
        "outputId": "e4ce0d7e-4445-490d-e4e8-2bcc5ad50103"
      },
      "source": [
        "sns.regplot(x=houseprices_df['Sqft_Lot'],y=houseprices_df['Price'], fit_reg=True)\n",
        "plt.title=('Relationship between lot size and the price')\n",
        "plt.xlabel('Lot size')\n",
        "plt.ylabel('Price')\n",
        "plt.show()\n"
      ],
      "execution_count": 23,
      "outputs": [
        {
          "output_type": "display_data",
          "data": {
            "image/png": "[encoded data removed]",
            "text/plain": [
              "<Figure size 432x288 with 1 Axes>"
            ]
          },
          "metadata": {}
        }
      ]
    },
    {
      "cell_type": "code",
      "metadata": {
        "colab": {
          "base_uri": "https://localhost:8080/",
          "height": 310
        },
        "id": "yOteAS0TW1x6",
        "outputId": "97f48d0c-708f-4351-fc25-e22b52245409"
      },
      "source": [
        "sns.regplot(x=houseprices_df['Sqft_Living'],y=houseprices_df['Price'], fit_reg=True)\n",
        "plt.title=('Relationship between lot size and the price')\n",
        "plt.xlabel('living space size')\n",
        "plt.ylabel('Price')\n",
        "plt.show()"
      ],
      "execution_count": 122,
      "outputs": [
        {
          "output_type": "display_data",
          "data": {
            "image/png": "[encoded data removed]",
            "text/plain": [
              "<Figure size 432x288 with 1 Axes>"
            ]
          },
          "metadata": {}
        }
      ]
    },
    {
      "cell_type": "code",
      "metadata": {
        "colab": {
          "base_uri": "https://localhost:8080/",
          "height": 310
        },
        "id": "tAuwlzO1XC7w",
        "outputId": "7660face-b7f9-4bf3-beb9-33d2b9d9b41d"
      },
      "source": [
        "sns.regplot(x=houseprices_df['Sqft_Living15'],y=houseprices_df['Price'], fit_reg=True)\n",
        "plt.title=('Relationship between lot size and the price')\n",
        "plt.xlabel('Lot size')\n",
        "plt.ylabel('Price')\n",
        "plt.show()"
      ],
      "execution_count": 124,
      "outputs": [
        {
          "output_type": "display_data",
          "data": {
            "image/png": "[encoded data removed]",
            "text/plain": [
              "<Figure size 432x288 with 1 Axes>"
            ]
          },
          "metadata": {}
        }
      ]
    },
    {
      "cell_type": "markdown",
      "metadata": {
        "id": "3CB9E_VhtxWS"
      },
      "source": [
        "### **Multivariate Analysis**"
      ]
    },
    {
      "cell_type": "code",
      "metadata": {
        "colab": {
          "base_uri": "https://localhost:8080/",
          "height": 620
        },
        "id": "uUdrqZcKrTe9",
        "outputId": "cb9089de-8839-45ca-b436-daf14ec238d5"
      },
      "source": [
        "corr_matrix=houseprices_df.iloc[:,1:].corr()\n",
        "corr_matrix"
      ],
      "execution_count": 27,
      "outputs": [
        {
          "output_type": "execute_result",
          "data": {
            "text/html": [
              "<div>\n",
              "<style scoped>\n",
              "    .dataframe tbody tr th:only-of-type {\n",
              "        vertical-align: middle;\n",
              "    }\n",
              "\n",
              "    .dataframe tbody tr th {\n",
              "        vertical-align: top;\n",
              "    }\n",
              "\n",
              "    .dataframe thead th {\n",
              "        text-align: right;\n",
              "    }\n",
              "</style>\n",
              "<table border=\"1\" class=\"dataframe\">\n",
              "  <thead>\n",
              "    <tr style=\"text-align: right;\">\n",
              "      <th></th>\n",
              "      <th>Bedrooms</th>\n",
              "      <th>Bathrooms</th>\n",
              "      <th>Sqft_Living</th>\n",
              "      <th>Sqft_Lot</th>\n",
              "      <th>Floors</th>\n",
              "      <th>Waterfront</th>\n",
              "      <th>View</th>\n",
              "      <th>Condition</th>\n",
              "      <th>Grade</th>\n",
              "      <th>Sqft_Above</th>\n",
              "      <th>Sqft_Basement</th>\n",
              "      <th>Yr_Built</th>\n",
              "      <th>Yr_Renovated</th>\n",
              "      <th>Zipcode</th>\n",
              "      <th>Lat</th>\n",
              "      <th>Long</th>\n",
              "      <th>Sqft_Living15</th>\n",
              "      <th>Sqft_Lot15</th>\n",
              "    </tr>\n",
              "  </thead>\n",
              "  <tbody>\n",
              "    <tr>\n",
              "      <th>Bedrooms</th>\n",
              "      <td>1.000000</td>\n",
              "      <td>0.515935</td>\n",
              "      <td>0.576674</td>\n",
              "      <td>0.031699</td>\n",
              "      <td>0.175448</td>\n",
              "      <td>-0.006583</td>\n",
              "      <td>0.079433</td>\n",
              "      <td>0.028422</td>\n",
              "      <td>0.357003</td>\n",
              "      <td>0.477619</td>\n",
              "      <td>0.303077</td>\n",
              "      <td>0.154276</td>\n",
              "      <td>0.018695</td>\n",
              "      <td>-0.152721</td>\n",
              "      <td>-0.008953</td>\n",
              "      <td>0.129474</td>\n",
              "      <td>0.391633</td>\n",
              "      <td>0.029233</td>\n",
              "    </tr>\n",
              "    <tr>\n",
              "      <th>Bathrooms</th>\n",
              "      <td>0.515935</td>\n",
              "      <td>1.000000</td>\n",
              "      <td>0.754688</td>\n",
              "      <td>0.087750</td>\n",
              "      <td>0.500669</td>\n",
              "      <td>0.063747</td>\n",
              "      <td>0.187891</td>\n",
              "      <td>-0.124940</td>\n",
              "      <td>0.664990</td>\n",
              "      <td>0.685351</td>\n",
              "      <td>0.283814</td>\n",
              "      <td>0.505997</td>\n",
              "      <td>0.050879</td>\n",
              "      <td>-0.203831</td>\n",
              "      <td>0.024590</td>\n",
              "      <td>0.223047</td>\n",
              "      <td>0.568665</td>\n",
              "      <td>0.087191</td>\n",
              "    </tr>\n",
              "    <tr>\n",
              "      <th>Sqft_Living</th>\n",
              "      <td>0.576674</td>\n",
              "      <td>0.754688</td>\n",
              "      <td>1.000000</td>\n",
              "      <td>0.172830</td>\n",
              "      <td>0.353954</td>\n",
              "      <td>0.103820</td>\n",
              "      <td>0.284641</td>\n",
              "      <td>-0.058768</td>\n",
              "      <td>0.762719</td>\n",
              "      <td>0.876600</td>\n",
              "      <td>0.435054</td>\n",
              "      <td>0.318099</td>\n",
              "      <td>0.055314</td>\n",
              "      <td>-0.199435</td>\n",
              "      <td>0.052521</td>\n",
              "      <td>0.240221</td>\n",
              "      <td>0.756420</td>\n",
              "      <td>0.183285</td>\n",
              "    </tr>\n",
              "    <tr>\n",
              "      <th>Sqft_Lot</th>\n",
              "      <td>0.031699</td>\n",
              "      <td>0.087750</td>\n",
              "      <td>0.172830</td>\n",
              "      <td>1.000000</td>\n",
              "      <td>-0.005171</td>\n",
              "      <td>0.021601</td>\n",
              "      <td>0.074753</td>\n",
              "      <td>-0.008967</td>\n",
              "      <td>0.113644</td>\n",
              "      <td>0.183527</td>\n",
              "      <td>0.015271</td>\n",
              "      <td>0.053105</td>\n",
              "      <td>0.007677</td>\n",
              "      <td>-0.129611</td>\n",
              "      <td>-0.085680</td>\n",
              "      <td>0.229552</td>\n",
              "      <td>0.144620</td>\n",
              "      <td>0.718556</td>\n",
              "    </tr>\n",
              "    <tr>\n",
              "      <th>Floors</th>\n",
              "      <td>0.175448</td>\n",
              "      <td>0.500669</td>\n",
              "      <td>0.353954</td>\n",
              "      <td>-0.005171</td>\n",
              "      <td>1.000000</td>\n",
              "      <td>0.023711</td>\n",
              "      <td>0.029325</td>\n",
              "      <td>-0.263779</td>\n",
              "      <td>0.458151</td>\n",
              "      <td>0.523874</td>\n",
              "      <td>-0.245673</td>\n",
              "      <td>0.489347</td>\n",
              "      <td>0.006156</td>\n",
              "      <td>-0.059025</td>\n",
              "      <td>0.049593</td>\n",
              "      <td>0.125343</td>\n",
              "      <td>0.279861</td>\n",
              "      <td>-0.011250</td>\n",
              "    </tr>\n",
              "    <tr>\n",
              "      <th>Waterfront</th>\n",
              "      <td>-0.006583</td>\n",
              "      <td>0.063747</td>\n",
              "      <td>0.103820</td>\n",
              "      <td>0.021601</td>\n",
              "      <td>0.023711</td>\n",
              "      <td>1.000000</td>\n",
              "      <td>0.401993</td>\n",
              "      <td>0.016652</td>\n",
              "      <td>0.082785</td>\n",
              "      <td>0.072080</td>\n",
              "      <td>0.080585</td>\n",
              "      <td>-0.026159</td>\n",
              "      <td>0.092950</td>\n",
              "      <td>0.030277</td>\n",
              "      <td>-0.014272</td>\n",
              "      <td>-0.041904</td>\n",
              "      <td>0.086469</td>\n",
              "      <td>0.030702</td>\n",
              "    </tr>\n",
              "    <tr>\n",
              "      <th>View</th>\n",
              "      <td>0.079433</td>\n",
              "      <td>0.187891</td>\n",
              "      <td>0.284641</td>\n",
              "      <td>0.074753</td>\n",
              "      <td>0.029325</td>\n",
              "      <td>0.401993</td>\n",
              "      <td>1.000000</td>\n",
              "      <td>0.045836</td>\n",
              "      <td>0.251378</td>\n",
              "      <td>0.167659</td>\n",
              "      <td>0.276996</td>\n",
              "      <td>-0.053229</td>\n",
              "      <td>0.103208</td>\n",
              "      <td>0.084838</td>\n",
              "      <td>0.006049</td>\n",
              "      <td>-0.078560</td>\n",
              "      <td>0.280404</td>\n",
              "      <td>0.072577</td>\n",
              "    </tr>\n",
              "    <tr>\n",
              "      <th>Condition</th>\n",
              "      <td>0.028422</td>\n",
              "      <td>-0.124940</td>\n",
              "      <td>-0.058768</td>\n",
              "      <td>-0.008967</td>\n",
              "      <td>-0.263779</td>\n",
              "      <td>0.016652</td>\n",
              "      <td>0.045836</td>\n",
              "      <td>1.000000</td>\n",
              "      <td>-0.144655</td>\n",
              "      <td>-0.158212</td>\n",
              "      <td>0.174071</td>\n",
              "      <td>-0.361347</td>\n",
              "      <td>-0.060862</td>\n",
              "      <td>0.002962</td>\n",
              "      <td>-0.014971</td>\n",
              "      <td>-0.106512</td>\n",
              "      <td>-0.092854</td>\n",
              "      <td>-0.003424</td>\n",
              "    </tr>\n",
              "    <tr>\n",
              "      <th>Grade</th>\n",
              "      <td>0.357003</td>\n",
              "      <td>0.664990</td>\n",
              "      <td>0.762719</td>\n",
              "      <td>0.113644</td>\n",
              "      <td>0.458151</td>\n",
              "      <td>0.082785</td>\n",
              "      <td>0.251378</td>\n",
              "      <td>-0.144655</td>\n",
              "      <td>1.000000</td>\n",
              "      <td>0.755919</td>\n",
              "      <td>0.168443</td>\n",
              "      <td>0.446966</td>\n",
              "      <td>0.014372</td>\n",
              "      <td>-0.184795</td>\n",
              "      <td>0.114086</td>\n",
              "      <td>0.198347</td>\n",
              "      <td>0.713208</td>\n",
              "      <td>0.119265</td>\n",
              "    </tr>\n",
              "    <tr>\n",
              "      <th>Sqft_Above</th>\n",
              "      <td>0.477619</td>\n",
              "      <td>0.685351</td>\n",
              "      <td>0.876600</td>\n",
              "      <td>0.183527</td>\n",
              "      <td>0.523874</td>\n",
              "      <td>0.072080</td>\n",
              "      <td>0.167659</td>\n",
              "      <td>-0.158212</td>\n",
              "      <td>0.755919</td>\n",
              "      <td>1.000000</td>\n",
              "      <td>-0.051923</td>\n",
              "      <td>0.423922</td>\n",
              "      <td>0.023233</td>\n",
              "      <td>-0.261163</td>\n",
              "      <td>-0.000823</td>\n",
              "      <td>0.343791</td>\n",
              "      <td>0.731870</td>\n",
              "      <td>0.194060</td>\n",
              "    </tr>\n",
              "    <tr>\n",
              "      <th>Sqft_Basement</th>\n",
              "      <td>0.303077</td>\n",
              "      <td>0.283814</td>\n",
              "      <td>0.435054</td>\n",
              "      <td>0.015271</td>\n",
              "      <td>-0.245673</td>\n",
              "      <td>0.080585</td>\n",
              "      <td>0.276996</td>\n",
              "      <td>0.174071</td>\n",
              "      <td>0.168443</td>\n",
              "      <td>-0.051923</td>\n",
              "      <td>1.000000</td>\n",
              "      <td>-0.133062</td>\n",
              "      <td>0.071320</td>\n",
              "      <td>0.074781</td>\n",
              "      <td>0.110535</td>\n",
              "      <td>-0.144743</td>\n",
              "      <td>0.200367</td>\n",
              "      <td>0.017260</td>\n",
              "    </tr>\n",
              "    <tr>\n",
              "      <th>Yr_Built</th>\n",
              "      <td>0.154276</td>\n",
              "      <td>0.505997</td>\n",
              "      <td>0.318099</td>\n",
              "      <td>0.053105</td>\n",
              "      <td>0.489347</td>\n",
              "      <td>-0.026159</td>\n",
              "      <td>-0.053229</td>\n",
              "      <td>-0.361347</td>\n",
              "      <td>0.446966</td>\n",
              "      <td>0.423922</td>\n",
              "      <td>-0.133062</td>\n",
              "      <td>1.000000</td>\n",
              "      <td>-0.224729</td>\n",
              "      <td>-0.346808</td>\n",
              "      <td>-0.148099</td>\n",
              "      <td>0.409395</td>\n",
              "      <td>0.326298</td>\n",
              "      <td>0.070999</td>\n",
              "    </tr>\n",
              "    <tr>\n",
              "      <th>Yr_Renovated</th>\n",
              "      <td>0.018695</td>\n",
              "      <td>0.050879</td>\n",
              "      <td>0.055314</td>\n",
              "      <td>0.007677</td>\n",
              "      <td>0.006156</td>\n",
              "      <td>0.092950</td>\n",
              "      <td>0.103208</td>\n",
              "      <td>-0.060862</td>\n",
              "      <td>0.014372</td>\n",
              "      <td>0.023233</td>\n",
              "      <td>0.071320</td>\n",
              "      <td>-0.224729</td>\n",
              "      <td>1.000000</td>\n",
              "      <td>0.064388</td>\n",
              "      <td>0.029271</td>\n",
              "      <td>-0.068594</td>\n",
              "      <td>-0.002841</td>\n",
              "      <td>0.007837</td>\n",
              "    </tr>\n",
              "    <tr>\n",
              "      <th>Zipcode</th>\n",
              "      <td>-0.152721</td>\n",
              "      <td>-0.203831</td>\n",
              "      <td>-0.199435</td>\n",
              "      <td>-0.129611</td>\n",
              "      <td>-0.059025</td>\n",
              "      <td>0.030277</td>\n",
              "      <td>0.084838</td>\n",
              "      <td>0.002962</td>\n",
              "      <td>-0.184795</td>\n",
              "      <td>-0.261163</td>\n",
              "      <td>0.074781</td>\n",
              "      <td>-0.346808</td>\n",
              "      <td>0.064388</td>\n",
              "      <td>1.000000</td>\n",
              "      <td>0.267064</td>\n",
              "      <td>-0.564069</td>\n",
              "      <td>-0.279033</td>\n",
              "      <td>-0.147257</td>\n",
              "    </tr>\n",
              "    <tr>\n",
              "      <th>Lat</th>\n",
              "      <td>-0.008953</td>\n",
              "      <td>0.024590</td>\n",
              "      <td>0.052521</td>\n",
              "      <td>-0.085680</td>\n",
              "      <td>0.049593</td>\n",
              "      <td>-0.014272</td>\n",
              "      <td>0.006049</td>\n",
              "      <td>-0.014971</td>\n",
              "      <td>0.114086</td>\n",
              "      <td>-0.000823</td>\n",
              "      <td>0.110535</td>\n",
              "      <td>-0.148099</td>\n",
              "      <td>0.029271</td>\n",
              "      <td>0.267064</td>\n",
              "      <td>1.000000</td>\n",
              "      <td>-0.135545</td>\n",
              "      <td>0.048839</td>\n",
              "      <td>-0.086423</td>\n",
              "    </tr>\n",
              "    <tr>\n",
              "      <th>Long</th>\n",
              "      <td>0.129474</td>\n",
              "      <td>0.223047</td>\n",
              "      <td>0.240221</td>\n",
              "      <td>0.229552</td>\n",
              "      <td>0.125343</td>\n",
              "      <td>-0.041904</td>\n",
              "      <td>-0.078560</td>\n",
              "      <td>-0.106512</td>\n",
              "      <td>0.198347</td>\n",
              "      <td>0.343791</td>\n",
              "      <td>-0.144743</td>\n",
              "      <td>0.409395</td>\n",
              "      <td>-0.068594</td>\n",
              "      <td>-0.564069</td>\n",
              "      <td>-0.135545</td>\n",
              "      <td>1.000000</td>\n",
              "      <td>0.334592</td>\n",
              "      <td>0.254475</td>\n",
              "    </tr>\n",
              "    <tr>\n",
              "      <th>Sqft_Living15</th>\n",
              "      <td>0.391633</td>\n",
              "      <td>0.568665</td>\n",
              "      <td>0.756420</td>\n",
              "      <td>0.144620</td>\n",
              "      <td>0.279861</td>\n",
              "      <td>0.086469</td>\n",
              "      <td>0.280404</td>\n",
              "      <td>-0.092854</td>\n",
              "      <td>0.713208</td>\n",
              "      <td>0.731870</td>\n",
              "      <td>0.200367</td>\n",
              "      <td>0.326298</td>\n",
              "      <td>-0.002841</td>\n",
              "      <td>-0.279033</td>\n",
              "      <td>0.048839</td>\n",
              "      <td>0.334592</td>\n",
              "      <td>1.000000</td>\n",
              "      <td>0.183194</td>\n",
              "    </tr>\n",
              "    <tr>\n",
              "      <th>Sqft_Lot15</th>\n",
              "      <td>0.029233</td>\n",
              "      <td>0.087191</td>\n",
              "      <td>0.183285</td>\n",
              "      <td>0.718556</td>\n",
              "      <td>-0.011250</td>\n",
              "      <td>0.030702</td>\n",
              "      <td>0.072577</td>\n",
              "      <td>-0.003424</td>\n",
              "      <td>0.119265</td>\n",
              "      <td>0.194060</td>\n",
              "      <td>0.017260</td>\n",
              "      <td>0.070999</td>\n",
              "      <td>0.007837</td>\n",
              "      <td>-0.147257</td>\n",
              "      <td>-0.086423</td>\n",
              "      <td>0.254475</td>\n",
              "      <td>0.183194</td>\n",
              "      <td>1.000000</td>\n",
              "    </tr>\n",
              "  </tbody>\n",
              "</table>\n",
              "</div>"
            ],
            "text/plain": [
              "               Bedrooms  Bathrooms  ...  Sqft_Living15  Sqft_Lot15\n",
              "Bedrooms       1.000000   0.515935  ...       0.391633    0.029233\n",
              "Bathrooms      0.515935   1.000000  ...       0.568665    0.087191\n",
              "Sqft_Living    0.576674   0.754688  ...       0.756420    0.183285\n",
              "Sqft_Lot       0.031699   0.087750  ...       0.144620    0.718556\n",
              "Floors         0.175448   0.500669  ...       0.279861   -0.011250\n",
              "Waterfront    -0.006583   0.063747  ...       0.086469    0.030702\n",
              "View           0.079433   0.187891  ...       0.280404    0.072577\n",
              "Condition      0.028422  -0.124940  ...      -0.092854   -0.003424\n",
              "Grade          0.357003   0.664990  ...       0.713208    0.119265\n",
              "Sqft_Above     0.477619   0.685351  ...       0.731870    0.194060\n",
              "Sqft_Basement  0.303077   0.283814  ...       0.200367    0.017260\n",
              "Yr_Built       0.154276   0.505997  ...       0.326298    0.070999\n",
              "Yr_Renovated   0.018695   0.050879  ...      -0.002841    0.007837\n",
              "Zipcode       -0.152721  -0.203831  ...      -0.279033   -0.147257\n",
              "Lat           -0.008953   0.024590  ...       0.048839   -0.086423\n",
              "Long           0.129474   0.223047  ...       0.334592    0.254475\n",
              "Sqft_Living15  0.391633   0.568665  ...       1.000000    0.183194\n",
              "Sqft_Lot15     0.029233   0.087191  ...       0.183194    1.000000\n",
              "\n",
              "[18 rows x 18 columns]"
            ]
          },
          "metadata": {},
          "execution_count": 27
        }
      ]
    },
    {
      "cell_type": "markdown",
      "metadata": {
        "id": "kg_Z3i65t3PJ"
      },
      "source": [
        "## **Regression Analysis**"
      ]
    },
    {
      "cell_type": "markdown",
      "metadata": {
        "id": "oYDCHjYHuJIE"
      },
      "source": [
        "### **Data Preparation**"
      ]
    },
    {
      "cell_type": "markdown",
      "metadata": {
        "id": "DrBcO8Z6us4x"
      },
      "source": [
        "**Variable Definition**"
      ]
    },
    {
      "cell_type": "code",
      "metadata": {
        "id": "zUfyDCyxroAf"
      },
      "source": [
        "x=houseprices_df.iloc[:,1:].values\n",
        "y=houseprices_df['Price'].values\n",
        "x1=houseprices_df.iloc[:,1:]\n"
      ],
      "execution_count": 98,
      "outputs": []
    },
    {
      "cell_type": "markdown",
      "metadata": {
        "id": "3RH-sM1rvpsi"
      },
      "source": [
        "**Dataset Splitting**"
      ]
    },
    {
      "cell_type": "code",
      "metadata": {
        "id": "Do1uiAsSr6wU"
      },
      "source": [
        "x_train,x_test,y_train,y_test=train_test_split(x,y,test_size=0.3,random_state=0)"
      ],
      "execution_count": 81,
      "outputs": []
    },
    {
      "cell_type": "markdown",
      "metadata": {
        "id": "UhGA769rvyPp"
      },
      "source": [
        "**Cross- Validation**"
      ]
    },
    {
      "cell_type": "code",
      "metadata": {
        "id": "yFxisd7htcyR"
      },
      "source": [
        "folds = KFold(n_splits=5)\n",
        "#The split will use 5 folds\n",
        "for train_index, test_index in folds.split(houseprices_df):\n",
        "# set up the train and test based on the split determined by KFold\n",
        "  Xtrain, Xtest = x[train_index], x[test_index]\n",
        "  ytrain, ytest = y[train_index], y[test_index]"
      ],
      "execution_count": 30,
      "outputs": []
    },
    {
      "cell_type": "markdown",
      "metadata": {
        "id": "0dnsMkDcul35"
      },
      "source": [
        "**Checking for Multicollinearity**"
      ]
    },
    {
      "cell_type": "code",
      "metadata": {
        "colab": {
          "base_uri": "https://localhost:8080/",
          "height": 620
        },
        "id": "K1EnLNRTvcAF",
        "outputId": "6b7dce52-e104-4f2f-c88f-3d58c536d393"
      },
      "source": [
        "# Checking the Variance Inflation Factor in the independent variables x\n",
        "pd.DataFrame(np.linalg.inv(corr_matrix.values), index = corr_matrix.index, columns=corr_matrix.columns)\n",
        "#It appears that all the independent variables have low collinearity with VIF scores of below 5"
      ],
      "execution_count": 31,
      "outputs": [
        {
          "output_type": "execute_result",
          "data": {
            "text/html": [
              "<div>\n",
              "<style scoped>\n",
              "    .dataframe tbody tr th:only-of-type {\n",
              "        vertical-align: middle;\n",
              "    }\n",
              "\n",
              "    .dataframe tbody tr th {\n",
              "        vertical-align: top;\n",
              "    }\n",
              "\n",
              "    .dataframe thead th {\n",
              "        text-align: right;\n",
              "    }\n",
              "</style>\n",
              "<table border=\"1\" class=\"dataframe\">\n",
              "  <thead>\n",
              "    <tr style=\"text-align: right;\">\n",
              "      <th></th>\n",
              "      <th>Bedrooms</th>\n",
              "      <th>Bathrooms</th>\n",
              "      <th>Sqft_Living</th>\n",
              "      <th>Sqft_Lot</th>\n",
              "      <th>Floors</th>\n",
              "      <th>Waterfront</th>\n",
              "      <th>View</th>\n",
              "      <th>Condition</th>\n",
              "      <th>Grade</th>\n",
              "      <th>Sqft_Above</th>\n",
              "      <th>Sqft_Basement</th>\n",
              "      <th>Yr_Built</th>\n",
              "      <th>Yr_Renovated</th>\n",
              "      <th>Zipcode</th>\n",
              "      <th>Lat</th>\n",
              "      <th>Long</th>\n",
              "      <th>Sqft_Living15</th>\n",
              "      <th>Sqft_Lot15</th>\n",
              "    </tr>\n",
              "  </thead>\n",
              "  <tbody>\n",
              "    <tr>\n",
              "      <th>Bedrooms</th>\n",
              "      <td>1.652159</td>\n",
              "      <td>-0.461426</td>\n",
              "      <td>-6.117934e-01</td>\n",
              "      <td>0.049327</td>\n",
              "      <td>0.049848</td>\n",
              "      <td>0.063078</td>\n",
              "      <td>0.114430</td>\n",
              "      <td>-0.050633</td>\n",
              "      <td>0.306941</td>\n",
              "      <td>-3.230126e-01</td>\n",
              "      <td>-1.876431e-01</td>\n",
              "      <td>0.134509</td>\n",
              "      <td>0.045800</td>\n",
              "      <td>0.080174</td>\n",
              "      <td>0.050839</td>\n",
              "      <td>0.017554</td>\n",
              "      <td>0.025284</td>\n",
              "      <td>0.085416</td>\n",
              "    </tr>\n",
              "    <tr>\n",
              "      <th>Bathrooms</th>\n",
              "      <td>-0.461426</td>\n",
              "      <td>3.351248</td>\n",
              "      <td>-3.145315e+00</td>\n",
              "      <td>-0.024033</td>\n",
              "      <td>-0.675409</td>\n",
              "      <td>0.010097</td>\n",
              "      <td>-0.042387</td>\n",
              "      <td>-0.137265</td>\n",
              "      <td>-0.267927</td>\n",
              "      <td>1.566581e+00</td>\n",
              "      <td>4.380662e-01</td>\n",
              "      <td>-0.935745</td>\n",
              "      <td>-0.260436</td>\n",
              "      <td>0.041789</td>\n",
              "      <td>-0.041080</td>\n",
              "      <td>0.053741</td>\n",
              "      <td>0.092020</td>\n",
              "      <td>0.071444</td>\n",
              "    </tr>\n",
              "    <tr>\n",
              "      <th>Sqft_Living</th>\n",
              "      <td>-0.614071</td>\n",
              "      <td>-3.147130</td>\n",
              "      <td>1.814600e+13</td>\n",
              "      <td>-0.083509</td>\n",
              "      <td>2.726774</td>\n",
              "      <td>-0.075130</td>\n",
              "      <td>-0.011754</td>\n",
              "      <td>-0.174636</td>\n",
              "      <td>-1.944635</td>\n",
              "      <td>-1.636081e+13</td>\n",
              "      <td>-8.743992e+12</td>\n",
              "      <td>0.465651</td>\n",
              "      <td>0.157341</td>\n",
              "      <td>-0.351478</td>\n",
              "      <td>-0.055847</td>\n",
              "      <td>0.224682</td>\n",
              "      <td>-1.061709</td>\n",
              "      <td>-0.050719</td>\n",
              "    </tr>\n",
              "    <tr>\n",
              "      <th>Sqft_Lot</th>\n",
              "      <td>0.049327</td>\n",
              "      <td>-0.024033</td>\n",
              "      <td>-8.285028e-02</td>\n",
              "      <td>2.102526</td>\n",
              "      <td>0.045181</td>\n",
              "      <td>0.027369</td>\n",
              "      <td>-0.059109</td>\n",
              "      <td>0.030522</td>\n",
              "      <td>-0.053865</td>\n",
              "      <td>-1.245824e-01</td>\n",
              "      <td>-2.651796e-03</td>\n",
              "      <td>0.098734</td>\n",
              "      <td>0.021295</td>\n",
              "      <td>-0.002580</td>\n",
              "      <td>0.053339</td>\n",
              "      <td>-0.133206</td>\n",
              "      <td>0.163933</td>\n",
              "      <td>-1.459308</td>\n",
              "    </tr>\n",
              "    <tr>\n",
              "      <th>Floors</th>\n",
              "      <td>0.049848</td>\n",
              "      <td>-0.675409</td>\n",
              "      <td>2.727959e+00</td>\n",
              "      <td>0.045181</td>\n",
              "      <td>2.011974</td>\n",
              "      <td>-0.005524</td>\n",
              "      <td>-0.040067</td>\n",
              "      <td>0.089832</td>\n",
              "      <td>-0.230827</td>\n",
              "      <td>-2.964046e+00</td>\n",
              "      <td>-6.994371e-01</td>\n",
              "      <td>-0.481324</td>\n",
              "      <td>-0.079986</td>\n",
              "      <td>-0.170816</td>\n",
              "      <td>-0.127521</td>\n",
              "      <td>0.164281</td>\n",
              "      <td>0.272632</td>\n",
              "      <td>0.072657</td>\n",
              "    </tr>\n",
              "    <tr>\n",
              "      <th>Waterfront</th>\n",
              "      <td>0.063078</td>\n",
              "      <td>0.010097</td>\n",
              "      <td>-7.603136e-02</td>\n",
              "      <td>0.027369</td>\n",
              "      <td>-0.005524</td>\n",
              "      <td>1.203970</td>\n",
              "      <td>-0.492855</td>\n",
              "      <td>-0.012820</td>\n",
              "      <td>0.049272</td>\n",
              "      <td>-4.347535e-02</td>\n",
              "      <td>3.296960e-02</td>\n",
              "      <td>-0.021102</td>\n",
              "      <td>-0.065851</td>\n",
              "      <td>0.022562</td>\n",
              "      <td>0.009815</td>\n",
              "      <td>0.027241</td>\n",
              "      <td>0.054397</td>\n",
              "      <td>-0.018480</td>\n",
              "    </tr>\n",
              "    <tr>\n",
              "      <th>View</th>\n",
              "      <td>0.114430</td>\n",
              "      <td>-0.042387</td>\n",
              "      <td>-8.889906e-03</td>\n",
              "      <td>-0.059109</td>\n",
              "      <td>-0.040067</td>\n",
              "      <td>-0.492855</td>\n",
              "      <td>1.435320</td>\n",
              "      <td>-0.021126</td>\n",
              "      <td>-0.185270</td>\n",
              "      <td>4.729740e-02</td>\n",
              "      <td>-2.521202e-01</td>\n",
              "      <td>0.151685</td>\n",
              "      <td>-0.039119</td>\n",
              "      <td>-0.140639</td>\n",
              "      <td>0.118633</td>\n",
              "      <td>0.071934</td>\n",
              "      <td>-0.325388</td>\n",
              "      <td>-0.007469</td>\n",
              "    </tr>\n",
              "    <tr>\n",
              "      <th>Condition</th>\n",
              "      <td>-0.050633</td>\n",
              "      <td>-0.137265</td>\n",
              "      <td>-1.751460e-01</td>\n",
              "      <td>0.030522</td>\n",
              "      <td>0.089832</td>\n",
              "      <td>-0.012820</td>\n",
              "      <td>-0.021126</td>\n",
              "      <td>1.249500</td>\n",
              "      <td>-0.054508</td>\n",
              "      <td>2.132986e-01</td>\n",
              "      <td>-1.313328e-02</td>\n",
              "      <td>0.561510</td>\n",
              "      <td>0.206913</td>\n",
              "      <td>0.161279</td>\n",
              "      <td>0.063727</td>\n",
              "      <td>-0.006876</td>\n",
              "      <td>0.075908</td>\n",
              "      <td>-0.028242</td>\n",
              "    </tr>\n",
              "    <tr>\n",
              "      <th>Grade</th>\n",
              "      <td>0.306941</td>\n",
              "      <td>-0.267927</td>\n",
              "      <td>-1.945081e+00</td>\n",
              "      <td>-0.053865</td>\n",
              "      <td>-0.230827</td>\n",
              "      <td>0.049272</td>\n",
              "      <td>-0.185270</td>\n",
              "      <td>-0.054508</td>\n",
              "      <td>3.416981</td>\n",
              "      <td>1.441323e-01</td>\n",
              "      <td>4.509595e-01</td>\n",
              "      <td>-0.638907</td>\n",
              "      <td>-0.071472</td>\n",
              "      <td>0.083155</td>\n",
              "      <td>-0.330860</td>\n",
              "      <td>0.393716</td>\n",
              "      <td>-0.911600</td>\n",
              "      <td>0.071863</td>\n",
              "    </tr>\n",
              "    <tr>\n",
              "      <th>Sqft_Above</th>\n",
              "      <td>-0.321507</td>\n",
              "      <td>1.564435</td>\n",
              "      <td>-1.636081e+13</td>\n",
              "      <td>-0.124031</td>\n",
              "      <td>-2.962910</td>\n",
              "      <td>-0.044267</td>\n",
              "      <td>0.049941</td>\n",
              "      <td>0.212963</td>\n",
              "      <td>0.143654</td>\n",
              "      <td>1.475124e+13</td>\n",
              "      <td>7.883763e+12</td>\n",
              "      <td>0.100052</td>\n",
              "      <td>-0.142993</td>\n",
              "      <td>0.241261</td>\n",
              "      <td>0.231375</td>\n",
              "      <td>-0.544315</td>\n",
              "      <td>-0.578403</td>\n",
              "      <td>-0.129985</td>\n",
              "    </tr>\n",
              "    <tr>\n",
              "      <th>Sqft_Basement</th>\n",
              "      <td>-0.188469</td>\n",
              "      <td>0.437093</td>\n",
              "      <td>-8.743992e+12</td>\n",
              "      <td>-0.002343</td>\n",
              "      <td>-0.698743</td>\n",
              "      <td>0.032537</td>\n",
              "      <td>-0.250746</td>\n",
              "      <td>-0.013359</td>\n",
              "      <td>0.450719</td>\n",
              "      <td>7.883763e+12</td>\n",
              "      <td>4.213458e+12</td>\n",
              "      <td>0.020863</td>\n",
              "      <td>-0.089879</td>\n",
              "      <td>0.088088</td>\n",
              "      <td>-0.054275</td>\n",
              "      <td>0.039483</td>\n",
              "      <td>0.040500</td>\n",
              "      <td>-0.035126</td>\n",
              "    </tr>\n",
              "    <tr>\n",
              "      <th>Yr_Built</th>\n",
              "      <td>0.134509</td>\n",
              "      <td>-0.935745</td>\n",
              "      <td>4.635821e-01</td>\n",
              "      <td>0.098734</td>\n",
              "      <td>-0.481324</td>\n",
              "      <td>-0.021102</td>\n",
              "      <td>0.151685</td>\n",
              "      <td>0.561510</td>\n",
              "      <td>-0.638907</td>\n",
              "      <td>1.019178e-01</td>\n",
              "      <td>2.186020e-02</td>\n",
              "      <td>2.430222</td>\n",
              "      <td>0.533724</td>\n",
              "      <td>0.256800</td>\n",
              "      <td>0.310422</td>\n",
              "      <td>-0.505495</td>\n",
              "      <td>0.077695</td>\n",
              "      <td>-0.033746</td>\n",
              "    </tr>\n",
              "    <tr>\n",
              "      <th>Yr_Renovated</th>\n",
              "      <td>0.045800</td>\n",
              "      <td>-0.260436</td>\n",
              "      <td>1.565902e-01</td>\n",
              "      <td>0.021295</td>\n",
              "      <td>-0.079986</td>\n",
              "      <td>-0.065851</td>\n",
              "      <td>-0.039119</td>\n",
              "      <td>0.206913</td>\n",
              "      <td>-0.071472</td>\n",
              "      <td>-1.423165e-01</td>\n",
              "      <td>-8.951740e-02</td>\n",
              "      <td>0.533724</td>\n",
              "      <td>1.150499</td>\n",
              "      <td>0.036806</td>\n",
              "      <td>0.046146</td>\n",
              "      <td>-0.054102</td>\n",
              "      <td>0.099266</td>\n",
              "      <td>-0.022195</td>\n",
              "    </tr>\n",
              "    <tr>\n",
              "      <th>Zipcode</th>\n",
              "      <td>0.080174</td>\n",
              "      <td>0.041789</td>\n",
              "      <td>-3.515408e-01</td>\n",
              "      <td>-0.002580</td>\n",
              "      <td>-0.170816</td>\n",
              "      <td>0.022562</td>\n",
              "      <td>-0.140639</td>\n",
              "      <td>0.161279</td>\n",
              "      <td>0.083155</td>\n",
              "      <td>2.413168e-01</td>\n",
              "      <td>8.811808e-02</td>\n",
              "      <td>0.256800</td>\n",
              "      <td>0.036806</td>\n",
              "      <td>1.662141</td>\n",
              "      <td>-0.308109</td>\n",
              "      <td>0.733911</td>\n",
              "      <td>0.210240</td>\n",
              "      <td>-0.015488</td>\n",
              "    </tr>\n",
              "    <tr>\n",
              "      <th>Lat</th>\n",
              "      <td>0.050839</td>\n",
              "      <td>-0.041080</td>\n",
              "      <td>-5.535217e-02</td>\n",
              "      <td>0.053339</td>\n",
              "      <td>-0.127521</td>\n",
              "      <td>0.009815</td>\n",
              "      <td>0.118633</td>\n",
              "      <td>0.063727</td>\n",
              "      <td>-0.330860</td>\n",
              "      <td>2.309283e-01</td>\n",
              "      <td>-5.451361e-02</td>\n",
              "      <td>0.310422</td>\n",
              "      <td>0.046146</td>\n",
              "      <td>-0.308109</td>\n",
              "      <td>1.180645</td>\n",
              "      <td>-0.100816</td>\n",
              "      <td>-0.094792</td>\n",
              "      <td>0.036656</td>\n",
              "    </tr>\n",
              "    <tr>\n",
              "      <th>Long</th>\n",
              "      <td>0.017554</td>\n",
              "      <td>0.053741</td>\n",
              "      <td>2.269459e-01</td>\n",
              "      <td>-0.133206</td>\n",
              "      <td>0.164281</td>\n",
              "      <td>0.027241</td>\n",
              "      <td>0.071934</td>\n",
              "      <td>-0.006876</td>\n",
              "      <td>0.393716</td>\n",
              "      <td>-5.463564e-01</td>\n",
              "      <td>3.839202e-02</td>\n",
              "      <td>-0.505495</td>\n",
              "      <td>-0.054102</td>\n",
              "      <td>0.733911</td>\n",
              "      <td>-0.100816</td>\n",
              "      <td>1.825664</td>\n",
              "      <td>-0.354493</td>\n",
              "      <td>-0.160875</td>\n",
              "    </tr>\n",
              "    <tr>\n",
              "      <th>Sqft_Living15</th>\n",
              "      <td>0.025284</td>\n",
              "      <td>0.092020</td>\n",
              "      <td>-1.071847e+00</td>\n",
              "      <td>0.163933</td>\n",
              "      <td>0.272632</td>\n",
              "      <td>0.054397</td>\n",
              "      <td>-0.325388</td>\n",
              "      <td>0.075908</td>\n",
              "      <td>-0.911600</td>\n",
              "      <td>-5.692621e-01</td>\n",
              "      <td>4.538483e-02</td>\n",
              "      <td>0.077695</td>\n",
              "      <td>0.099266</td>\n",
              "      <td>0.210240</td>\n",
              "      <td>-0.094792</td>\n",
              "      <td>-0.354493</td>\n",
              "      <td>2.979647</td>\n",
              "      <td>-0.125593</td>\n",
              "    </tr>\n",
              "    <tr>\n",
              "      <th>Sqft_Lot15</th>\n",
              "      <td>0.085416</td>\n",
              "      <td>0.071444</td>\n",
              "      <td>-5.163374e-02</td>\n",
              "      <td>-1.459308</td>\n",
              "      <td>0.072657</td>\n",
              "      <td>-0.018480</td>\n",
              "      <td>-0.007469</td>\n",
              "      <td>-0.028242</td>\n",
              "      <td>0.071863</td>\n",
              "      <td>-1.291601e-01</td>\n",
              "      <td>-3.468556e-02</td>\n",
              "      <td>-0.033746</td>\n",
              "      <td>-0.022195</td>\n",
              "      <td>-0.015488</td>\n",
              "      <td>0.036656</td>\n",
              "      <td>-0.160875</td>\n",
              "      <td>-0.125593</td>\n",
              "      <td>2.135659</td>\n",
              "    </tr>\n",
              "  </tbody>\n",
              "</table>\n",
              "</div>"
            ],
            "text/plain": [
              "               Bedrooms  Bathrooms  ...  Sqft_Living15  Sqft_Lot15\n",
              "Bedrooms       1.652159  -0.461426  ...       0.025284    0.085416\n",
              "Bathrooms     -0.461426   3.351248  ...       0.092020    0.071444\n",
              "Sqft_Living   -0.614071  -3.147130  ...      -1.061709   -0.050719\n",
              "Sqft_Lot       0.049327  -0.024033  ...       0.163933   -1.459308\n",
              "Floors         0.049848  -0.675409  ...       0.272632    0.072657\n",
              "Waterfront     0.063078   0.010097  ...       0.054397   -0.018480\n",
              "View           0.114430  -0.042387  ...      -0.325388   -0.007469\n",
              "Condition     -0.050633  -0.137265  ...       0.075908   -0.028242\n",
              "Grade          0.306941  -0.267927  ...      -0.911600    0.071863\n",
              "Sqft_Above    -0.321507   1.564435  ...      -0.578403   -0.129985\n",
              "Sqft_Basement -0.188469   0.437093  ...       0.040500   -0.035126\n",
              "Yr_Built       0.134509  -0.935745  ...       0.077695   -0.033746\n",
              "Yr_Renovated   0.045800  -0.260436  ...       0.099266   -0.022195\n",
              "Zipcode        0.080174   0.041789  ...       0.210240   -0.015488\n",
              "Lat            0.050839  -0.041080  ...      -0.094792    0.036656\n",
              "Long           0.017554   0.053741  ...      -0.354493   -0.160875\n",
              "Sqft_Living15  0.025284   0.092020  ...       2.979647   -0.125593\n",
              "Sqft_Lot15     0.085416   0.071444  ...      -0.125593    2.135659\n",
              "\n",
              "[18 rows x 18 columns]"
            ]
          },
          "metadata": {},
          "execution_count": 31
        }
      ]
    },
    {
      "cell_type": "markdown",
      "metadata": {
        "id": "cj2a3T6YvAI6"
      },
      "source": [
        "### **Multiple Linear Regression**"
      ]
    },
    {
      "cell_type": "markdown",
      "metadata": {
        "id": "SIvIcrxkwiX4"
      },
      "source": [
        "This will act as a baseline model"
      ]
    },
    {
      "cell_type": "markdown",
      "metadata": {
        "id": "DAwDJF4Zwyc2"
      },
      "source": [
        "Multiple Linear regression with Train_test_split"
      ]
    },
    {
      "cell_type": "code",
      "metadata": {
        "colab": {
          "base_uri": "https://localhost:8080/",
          "height": 414
        },
        "id": "Hh1MXAm1wnE6",
        "outputId": "832cb752-d415-4b39-e86e-44e3649405c7"
      },
      "source": [
        "le=LinearRegression()\n",
        "le.fit(x_train,y_train)\n",
        "y_pred=le.predict(x_test)\n",
        "predicted_prices1=pd.DataFrame({'Actual Price':y_test,'Predicted Price':y_pred})\n",
        "predicted_prices1"
      ],
      "execution_count": 32,
      "outputs": [
        {
          "output_type": "execute_result",
          "data": {
            "text/html": [
              "<div>\n",
              "<style scoped>\n",
              "    .dataframe tbody tr th:only-of-type {\n",
              "        vertical-align: middle;\n",
              "    }\n",
              "\n",
              "    .dataframe tbody tr th {\n",
              "        vertical-align: top;\n",
              "    }\n",
              "\n",
              "    .dataframe thead th {\n",
              "        text-align: right;\n",
              "    }\n",
              "</style>\n",
              "<table border=\"1\" class=\"dataframe\">\n",
              "  <thead>\n",
              "    <tr style=\"text-align: right;\">\n",
              "      <th></th>\n",
              "      <th>Actual Price</th>\n",
              "      <th>Predicted Price</th>\n",
              "    </tr>\n",
              "  </thead>\n",
              "  <tbody>\n",
              "    <tr>\n",
              "      <th>0</th>\n",
              "      <td>680200.0</td>\n",
              "      <td>674663.335440</td>\n",
              "    </tr>\n",
              "    <tr>\n",
              "      <th>1</th>\n",
              "      <td>550000.0</td>\n",
              "      <td>506948.946436</td>\n",
              "    </tr>\n",
              "    <tr>\n",
              "      <th>2</th>\n",
              "      <td>230000.0</td>\n",
              "      <td>264294.168405</td>\n",
              "    </tr>\n",
              "    <tr>\n",
              "      <th>3</th>\n",
              "      <td>379950.0</td>\n",
              "      <td>447935.440362</td>\n",
              "    </tr>\n",
              "    <tr>\n",
              "      <th>4</th>\n",
              "      <td>1060000.0</td>\n",
              "      <td>806982.269077</td>\n",
              "    </tr>\n",
              "    <tr>\n",
              "      <th>...</th>\n",
              "      <td>...</td>\n",
              "      <td>...</td>\n",
              "    </tr>\n",
              "    <tr>\n",
              "      <th>6478</th>\n",
              "      <td>268000.0</td>\n",
              "      <td>226343.813213</td>\n",
              "    </tr>\n",
              "    <tr>\n",
              "      <th>6479</th>\n",
              "      <td>430000.0</td>\n",
              "      <td>461937.583981</td>\n",
              "    </tr>\n",
              "    <tr>\n",
              "      <th>6480</th>\n",
              "      <td>400000.0</td>\n",
              "      <td>370373.358898</td>\n",
              "    </tr>\n",
              "    <tr>\n",
              "      <th>6481</th>\n",
              "      <td>599832.0</td>\n",
              "      <td>708855.021435</td>\n",
              "    </tr>\n",
              "    <tr>\n",
              "      <th>6482</th>\n",
              "      <td>240000.0</td>\n",
              "      <td>230845.275960</td>\n",
              "    </tr>\n",
              "  </tbody>\n",
              "</table>\n",
              "<p>6483 rows × 2 columns</p>\n",
              "</div>"
            ],
            "text/plain": [
              "      Actual Price  Predicted Price\n",
              "0         680200.0    674663.335440\n",
              "1         550000.0    506948.946436\n",
              "2         230000.0    264294.168405\n",
              "3         379950.0    447935.440362\n",
              "4        1060000.0    806982.269077\n",
              "...            ...              ...\n",
              "6478      268000.0    226343.813213\n",
              "6479      430000.0    461937.583981\n",
              "6480      400000.0    370373.358898\n",
              "6481      599832.0    708855.021435\n",
              "6482      240000.0    230845.275960\n",
              "\n",
              "[6483 rows x 2 columns]"
            ]
          },
          "metadata": {},
          "execution_count": 32
        }
      ]
    },
    {
      "cell_type": "code",
      "metadata": {
        "colab": {
          "base_uri": "https://localhost:8080/",
          "height": 600
        },
        "id": "8GSUN6dnxP01",
        "outputId": "3b9d0089-1817-450e-a022-a1e8786f1b64"
      },
      "source": [
        "coeff_le1 = pd.DataFrame(le.coef_, x1.columns, columns=['Coefficient'])\n",
        "coeff_le1"
      ],
      "execution_count": 33,
      "outputs": [
        {
          "output_type": "execute_result",
          "data": {
            "text/html": [
              "<div>\n",
              "<style scoped>\n",
              "    .dataframe tbody tr th:only-of-type {\n",
              "        vertical-align: middle;\n",
              "    }\n",
              "\n",
              "    .dataframe tbody tr th {\n",
              "        vertical-align: top;\n",
              "    }\n",
              "\n",
              "    .dataframe thead th {\n",
              "        text-align: right;\n",
              "    }\n",
              "</style>\n",
              "<table border=\"1\" class=\"dataframe\">\n",
              "  <thead>\n",
              "    <tr style=\"text-align: right;\">\n",
              "      <th></th>\n",
              "      <th>Coefficient</th>\n",
              "    </tr>\n",
              "  </thead>\n",
              "  <tbody>\n",
              "    <tr>\n",
              "      <th>Bedrooms</th>\n",
              "      <td>-38865.440148</td>\n",
              "    </tr>\n",
              "    <tr>\n",
              "      <th>Bathrooms</th>\n",
              "      <td>40658.130656</td>\n",
              "    </tr>\n",
              "    <tr>\n",
              "      <th>Sqft_Living</th>\n",
              "      <td>107.201575</td>\n",
              "    </tr>\n",
              "    <tr>\n",
              "      <th>Sqft_Lot</th>\n",
              "      <td>0.172312</td>\n",
              "    </tr>\n",
              "    <tr>\n",
              "      <th>Floors</th>\n",
              "      <td>10577.986596</td>\n",
              "    </tr>\n",
              "    <tr>\n",
              "      <th>Waterfront</th>\n",
              "      <td>649776.451230</td>\n",
              "    </tr>\n",
              "    <tr>\n",
              "      <th>View</th>\n",
              "      <td>51880.537614</td>\n",
              "    </tr>\n",
              "    <tr>\n",
              "      <th>Condition</th>\n",
              "      <td>28224.746536</td>\n",
              "    </tr>\n",
              "    <tr>\n",
              "      <th>Grade</th>\n",
              "      <td>97405.366837</td>\n",
              "    </tr>\n",
              "    <tr>\n",
              "      <th>Sqft_Above</th>\n",
              "      <td>65.301055</td>\n",
              "    </tr>\n",
              "    <tr>\n",
              "      <th>Sqft_Basement</th>\n",
              "      <td>41.900520</td>\n",
              "    </tr>\n",
              "    <tr>\n",
              "      <th>Yr_Built</th>\n",
              "      <td>-2599.774546</td>\n",
              "    </tr>\n",
              "    <tr>\n",
              "      <th>Yr_Renovated</th>\n",
              "      <td>19.445721</td>\n",
              "    </tr>\n",
              "    <tr>\n",
              "      <th>Zipcode</th>\n",
              "      <td>-545.730370</td>\n",
              "    </tr>\n",
              "    <tr>\n",
              "      <th>Lat</th>\n",
              "      <td>595256.510662</td>\n",
              "    </tr>\n",
              "    <tr>\n",
              "      <th>Long</th>\n",
              "      <td>-210153.790045</td>\n",
              "    </tr>\n",
              "    <tr>\n",
              "      <th>Sqft_Living15</th>\n",
              "      <td>26.566261</td>\n",
              "    </tr>\n",
              "    <tr>\n",
              "      <th>Sqft_Lot15</th>\n",
              "      <td>-0.384248</td>\n",
              "    </tr>\n",
              "  </tbody>\n",
              "</table>\n",
              "</div>"
            ],
            "text/plain": [
              "                 Coefficient\n",
              "Bedrooms       -38865.440148\n",
              "Bathrooms       40658.130656\n",
              "Sqft_Living       107.201575\n",
              "Sqft_Lot            0.172312\n",
              "Floors          10577.986596\n",
              "Waterfront     649776.451230\n",
              "View            51880.537614\n",
              "Condition       28224.746536\n",
              "Grade           97405.366837\n",
              "Sqft_Above         65.301055\n",
              "Sqft_Basement      41.900520\n",
              "Yr_Built        -2599.774546\n",
              "Yr_Renovated       19.445721\n",
              "Zipcode          -545.730370\n",
              "Lat            595256.510662\n",
              "Long          -210153.790045\n",
              "Sqft_Living15      26.566261\n",
              "Sqft_Lot15         -0.384248"
            ]
          },
          "metadata": {},
          "execution_count": 33
        }
      ]
    },
    {
      "cell_type": "code",
      "metadata": {
        "colab": {
          "base_uri": "https://localhost:8080/"
        },
        "id": "VaS8PPsaz2Bu",
        "outputId": "282546df-b4da-45df-fbb3-a8ecb9cb5e4f"
      },
      "source": [
        "print(cross_val_score(le, x, y, cv=10, scoring=\"r2\").mean())\n",
        "print('The RMSE for Linear Regressor is : ', np.sqrt(metrics.mean_squared_error(y_test, y_pred)))"
      ],
      "execution_count": 34,
      "outputs": [
        {
          "output_type": "stream",
          "name": "stdout",
          "text": [
            "0.6952555627173123\n",
            "The RMSE for Linear Regressor is :  206599.85858395929\n"
          ]
        }
      ]
    },
    {
      "cell_type": "markdown",
      "metadata": {
        "id": "2gdl5zvp0_Hl"
      },
      "source": [
        "Multiple Linear regression cross validation with K-Kold"
      ]
    },
    {
      "cell_type": "code",
      "metadata": {
        "colab": {
          "base_uri": "https://localhost:8080/",
          "height": 414
        },
        "id": "PZQacN6u1J-x",
        "outputId": "e26231eb-0405-4038-b121-40544934f2c4"
      },
      "source": [
        "le2=LinearRegression()\n",
        "le2.fit(Xtrain,ytrain)\n",
        "ypred=le2.predict(Xtest)\n",
        "predicted_prices2=pd.DataFrame({'Actual Price':ytest,'Predicted Price':ypred})\n",
        "predicted_prices2"
      ],
      "execution_count": 35,
      "outputs": [
        {
          "output_type": "execute_result",
          "data": {
            "text/html": [
              "<div>\n",
              "<style scoped>\n",
              "    .dataframe tbody tr th:only-of-type {\n",
              "        vertical-align: middle;\n",
              "    }\n",
              "\n",
              "    .dataframe tbody tr th {\n",
              "        vertical-align: top;\n",
              "    }\n",
              "\n",
              "    .dataframe thead th {\n",
              "        text-align: right;\n",
              "    }\n",
              "</style>\n",
              "<table border=\"1\" class=\"dataframe\">\n",
              "  <thead>\n",
              "    <tr style=\"text-align: right;\">\n",
              "      <th></th>\n",
              "      <th>Actual Price</th>\n",
              "      <th>Predicted Price</th>\n",
              "    </tr>\n",
              "  </thead>\n",
              "  <tbody>\n",
              "    <tr>\n",
              "      <th>0</th>\n",
              "      <td>380000.0</td>\n",
              "      <td>678886.346473</td>\n",
              "    </tr>\n",
              "    <tr>\n",
              "      <th>1</th>\n",
              "      <td>624900.0</td>\n",
              "      <td>678886.346473</td>\n",
              "    </tr>\n",
              "    <tr>\n",
              "      <th>2</th>\n",
              "      <td>379770.0</td>\n",
              "      <td>316894.092055</td>\n",
              "    </tr>\n",
              "    <tr>\n",
              "      <th>3</th>\n",
              "      <td>340000.0</td>\n",
              "      <td>426112.795810</td>\n",
              "    </tr>\n",
              "    <tr>\n",
              "      <th>4</th>\n",
              "      <td>515500.0</td>\n",
              "      <td>573145.667691</td>\n",
              "    </tr>\n",
              "    <tr>\n",
              "      <th>...</th>\n",
              "      <td>...</td>\n",
              "      <td>...</td>\n",
              "    </tr>\n",
              "    <tr>\n",
              "      <th>4317</th>\n",
              "      <td>360000.0</td>\n",
              "      <td>440816.050262</td>\n",
              "    </tr>\n",
              "    <tr>\n",
              "      <th>4318</th>\n",
              "      <td>400000.0</td>\n",
              "      <td>411383.496637</td>\n",
              "    </tr>\n",
              "    <tr>\n",
              "      <th>4319</th>\n",
              "      <td>402101.0</td>\n",
              "      <td>107791.718563</td>\n",
              "    </tr>\n",
              "    <tr>\n",
              "      <th>4320</th>\n",
              "      <td>400000.0</td>\n",
              "      <td>360672.961529</td>\n",
              "    </tr>\n",
              "    <tr>\n",
              "      <th>4321</th>\n",
              "      <td>325000.0</td>\n",
              "      <td>110787.728587</td>\n",
              "    </tr>\n",
              "  </tbody>\n",
              "</table>\n",
              "<p>4322 rows × 2 columns</p>\n",
              "</div>"
            ],
            "text/plain": [
              "      Actual Price  Predicted Price\n",
              "0         380000.0    678886.346473\n",
              "1         624900.0    678886.346473\n",
              "2         379770.0    316894.092055\n",
              "3         340000.0    426112.795810\n",
              "4         515500.0    573145.667691\n",
              "...            ...              ...\n",
              "4317      360000.0    440816.050262\n",
              "4318      400000.0    411383.496637\n",
              "4319      402101.0    107791.718563\n",
              "4320      400000.0    360672.961529\n",
              "4321      325000.0    110787.728587\n",
              "\n",
              "[4322 rows x 2 columns]"
            ]
          },
          "metadata": {},
          "execution_count": 35
        }
      ]
    },
    {
      "cell_type": "code",
      "metadata": {
        "colab": {
          "base_uri": "https://localhost:8080/",
          "height": 600
        },
        "id": "Dg7ticny1dwg",
        "outputId": "f8a6990e-7445-4cdd-a8f7-db77c2a04399"
      },
      "source": [
        "coeff_le2 = pd.DataFrame(le2.coef_, x1.columns, columns=['Coefficient'])\n",
        "coeff_le2\n",
        "#The coefficients using the KFold in multiple linear regression has reduced and increased in various variables"
      ],
      "execution_count": 36,
      "outputs": [
        {
          "output_type": "execute_result",
          "data": {
            "text/html": [
              "<div>\n",
              "<style scoped>\n",
              "    .dataframe tbody tr th:only-of-type {\n",
              "        vertical-align: middle;\n",
              "    }\n",
              "\n",
              "    .dataframe tbody tr th {\n",
              "        vertical-align: top;\n",
              "    }\n",
              "\n",
              "    .dataframe thead th {\n",
              "        text-align: right;\n",
              "    }\n",
              "</style>\n",
              "<table border=\"1\" class=\"dataframe\">\n",
              "  <thead>\n",
              "    <tr style=\"text-align: right;\">\n",
              "      <th></th>\n",
              "      <th>Coefficient</th>\n",
              "    </tr>\n",
              "  </thead>\n",
              "  <tbody>\n",
              "    <tr>\n",
              "      <th>Bedrooms</th>\n",
              "      <td>-33962.928911</td>\n",
              "    </tr>\n",
              "    <tr>\n",
              "      <th>Bathrooms</th>\n",
              "      <td>40873.412268</td>\n",
              "    </tr>\n",
              "    <tr>\n",
              "      <th>Sqft_Living</th>\n",
              "      <td>108.229557</td>\n",
              "    </tr>\n",
              "    <tr>\n",
              "      <th>Sqft_Lot</th>\n",
              "      <td>0.149518</td>\n",
              "    </tr>\n",
              "    <tr>\n",
              "      <th>Floors</th>\n",
              "      <td>-732.957269</td>\n",
              "    </tr>\n",
              "    <tr>\n",
              "      <th>Waterfront</th>\n",
              "      <td>594076.181645</td>\n",
              "    </tr>\n",
              "    <tr>\n",
              "      <th>View</th>\n",
              "      <td>52316.573223</td>\n",
              "    </tr>\n",
              "    <tr>\n",
              "      <th>Condition</th>\n",
              "      <td>27414.734982</td>\n",
              "    </tr>\n",
              "    <tr>\n",
              "      <th>Grade</th>\n",
              "      <td>90725.102443</td>\n",
              "    </tr>\n",
              "    <tr>\n",
              "      <th>Sqft_Above</th>\n",
              "      <td>73.230704</td>\n",
              "    </tr>\n",
              "    <tr>\n",
              "      <th>Sqft_Basement</th>\n",
              "      <td>34.998853</td>\n",
              "    </tr>\n",
              "    <tr>\n",
              "      <th>Yr_Built</th>\n",
              "      <td>-2925.075006</td>\n",
              "    </tr>\n",
              "    <tr>\n",
              "      <th>Yr_Renovated</th>\n",
              "      <td>20.857225</td>\n",
              "    </tr>\n",
              "    <tr>\n",
              "      <th>Zipcode</th>\n",
              "      <td>-589.938713</td>\n",
              "    </tr>\n",
              "    <tr>\n",
              "      <th>Lat</th>\n",
              "      <td>582478.923549</td>\n",
              "    </tr>\n",
              "    <tr>\n",
              "      <th>Long</th>\n",
              "      <td>-191299.941311</td>\n",
              "    </tr>\n",
              "    <tr>\n",
              "      <th>Sqft_Living15</th>\n",
              "      <td>36.185130</td>\n",
              "    </tr>\n",
              "    <tr>\n",
              "      <th>Sqft_Lot15</th>\n",
              "      <td>-0.440995</td>\n",
              "    </tr>\n",
              "  </tbody>\n",
              "</table>\n",
              "</div>"
            ],
            "text/plain": [
              "                 Coefficient\n",
              "Bedrooms       -33962.928911\n",
              "Bathrooms       40873.412268\n",
              "Sqft_Living       108.229557\n",
              "Sqft_Lot            0.149518\n",
              "Floors           -732.957269\n",
              "Waterfront     594076.181645\n",
              "View            52316.573223\n",
              "Condition       27414.734982\n",
              "Grade           90725.102443\n",
              "Sqft_Above         73.230704\n",
              "Sqft_Basement      34.998853\n",
              "Yr_Built        -2925.075006\n",
              "Yr_Renovated       20.857225\n",
              "Zipcode          -589.938713\n",
              "Lat            582478.923549\n",
              "Long          -191299.941311\n",
              "Sqft_Living15      36.185130\n",
              "Sqft_Lot15         -0.440995"
            ]
          },
          "metadata": {},
          "execution_count": 36
        }
      ]
    },
    {
      "cell_type": "code",
      "metadata": {
        "colab": {
          "base_uri": "https://localhost:8080/"
        },
        "id": "OCzh3wyH17Hg",
        "outputId": "fc19cdcd-b4f1-45bc-edaf-cf2985710fe9"
      },
      "source": [
        "print(cross_val_score(le2, x, y, cv=10, scoring=\"r2\").mean())\n",
        "print('The RMSE for Linear Regressor is : ', np.sqrt(metrics.mean_squared_error(ytest, ypred)))"
      ],
      "execution_count": 37,
      "outputs": [
        {
          "output_type": "stream",
          "name": "stdout",
          "text": [
            "0.6952555627173123\n",
            "The RMSE for Linear Regressor is :  208068.44496575076\n"
          ]
        }
      ]
    },
    {
      "cell_type": "markdown",
      "metadata": {
        "id": "GY05GgxM0Ks5"
      },
      "source": [
        "**Summary:**The R2 score is 0.7 which is above 0.5. This means that with the simple train_test_split,the model is performing fairly well with an RMSE of 206599.85858395929. However the RMSE of the KFold cross validation is quite high at 208068.44496575076.\n",
        "Therefore the Train_test_split technique splits will be retained in use for the model optimization with quantile,ridge,lasso and Elasticnet regularization techniques "
      ]
    },
    {
      "cell_type": "code",
      "metadata": {
        "id": "HgJ32sKjB1zx"
      },
      "source": [
        "residuals = np.subtract(y_pred, y_test)"
      ],
      "execution_count": 38,
      "outputs": []
    },
    {
      "cell_type": "code",
      "metadata": {
        "colab": {
          "base_uri": "https://localhost:8080/",
          "height": 310
        },
        "id": "7-8VE466CI22",
        "outputId": "32494c9e-f0f8-4f60-bf32-77001a952622"
      },
      "source": [
        "plt.scatter(y_pred, residuals, color='black')\n",
        "plt.ylabel('residual')\n",
        "plt.xlabel('fitted values')\n",
        "plt.axhline(y= residuals.mean(), color='red', linewidth=1)\n",
        "plt.show()"
      ],
      "execution_count": 39,
      "outputs": [
        {
          "output_type": "display_data",
          "data": {
            "image/png": "[encoded data removed]",
            "text/plain": [
              "<Figure size 432x288 with 1 Axes>"
            ]
          },
          "metadata": {}
        }
      ]
    },
    {
      "cell_type": "code",
      "metadata": {
        "colab": {
          "base_uri": "https://localhost:8080/"
        },
        "id": "5Mtr0CTH36rm",
        "outputId": "b961c257-218c-4478-c732-e4c5b1be931a"
      },
      "source": [
        "#Checking for hetescdasticity to determine the suitability the multiple linear regression model\n",
        "test_result, p_value = bartlett(y_pred,residuals)\n",
        "# To interpret the results we must also compute a critical value of the chi squared distribution\n",
        "degree_of_freedom = len(y_pred)-1\n",
        "probability = 1 - p_value\n",
        "critical_value =chi2.ppf(probability, degree_of_freedom)\n",
        "# If the test_result is greater than the critical value, then we reject our null\n",
        "# hypothesis. This would mean that there are patterns to the variance of the data\n",
        "\n",
        "# Otherwise, we can identify no patterns, and we accept the null hypothesis that \n",
        "# the variance is homogeneous across our data\n",
        "if (test_result > critical_value):\n",
        "  print('The variances are unequal, and the model should be reassessed')\n",
        "else:\n",
        "  print('The variances are homogeneous!')"
      ],
      "execution_count": 40,
      "outputs": [
        {
          "output_type": "stream",
          "name": "stdout",
          "text": [
            "The variances are homogeneous!\n"
          ]
        }
      ]
    },
    {
      "cell_type": "markdown",
      "metadata": {
        "id": "xTD5VAMzvEYx"
      },
      "source": [
        "### **Quantile Regression**"
      ]
    },
    {
      "cell_type": "code",
      "metadata": {
        "colab": {
          "base_uri": "https://localhost:8080/"
        },
        "id": "kkRT9P6iWm9i",
        "outputId": "98538af6-f42b-4bd3-c587-06febea4a39c"
      },
      "source": [
        "x2=houseprices_df['Sqft_Living'].values\n",
        "quantile = smf.quantreg('y ~ x2', houseprices_df)\n",
        "quantiles = [0.25,0.5,0.75] \n",
        "models = []\n",
        "params = []\n",
        "for qt in quantiles: \n",
        "\tres = quantile.fit(q = qt )\n",
        "\tmodels.append(res)\n",
        "\n",
        "\tparams.append([qt, res.params['Intercept'], res.params['x2']] + res.conf_int().loc['x2'].tolist())\n",
        "\n",
        "qparams = pd.DataFrame(data = params, columns = ['qt', 'intercept', 'x_coef', 'cf_lower_bound', 'cf_upper_bound'])\n",
        "print(qparams)"
      ],
      "execution_count": 114,
      "outputs": [
        {
          "output_type": "stream",
          "name": "stdout",
          "text": [
            "     qt     intercept      x_coef  cf_lower_bound  cf_upper_bound\n",
            "0  0.25  30432.624115  165.248227      162.939971      167.556483\n",
            "1  0.50  52696.035240  216.740088      213.230524      220.249652\n",
            "2  0.75  87978.723386  265.957447      261.154094      270.760799\n"
          ]
        }
      ]
    },
    {
      "cell_type": "code",
      "metadata": {
        "colab": {
          "base_uri": "https://localhost:8080/",
          "height": 287
        },
        "id": "PgWzcoEAmEhp",
        "outputId": "74a00c71-c400-48cf-963f-e3d1556cfcf6"
      },
      "source": [
        "plt.figure(5)\n",
        "plt.scatter(x2, y,  color='black')\n",
        "\n",
        "\n",
        "y_pred3 = models[0].params['Intercept'] + models[0].params['x2'] * x2\n",
        "plt.plot(x2, y_pred3, color='red',\n",
        "         linewidth=3, label='Q Reg : 0.25')\n",
        "\n",
        "y_pred4 = models[1].params['Intercept'] + models[1].params['x2'] * x2\n",
        "plt.plot(x2, y_pred4, color='green',\n",
        "         linewidth=3, label='Q Reg : 0.5')\n",
        "\n",
        "\n",
        "y_pred5 = models[2].params['Intercept'] + models[2].params['x2'] * x2\n",
        "plt.plot(x2, y_pred5, color='cyan',\n",
        "         linewidth=3, label='Q Reg : 0.75')\n",
        "\n",
        "plt.xticks(())\n",
        "plt.yticks(())\n",
        "plt.xlabel(\"x\")\n",
        "plt.ylabel(\"y and predicted y\")\n",
        "plt.title=(\"Quantile regression on data with non-constant variance\")\n",
        "plt.legend()"
      ],
      "execution_count": 120,
      "outputs": [
        {
          "output_type": "execute_result",
          "data": {
            "text/plain": [
              "<matplotlib.legend.Legend at 0x7fbf04f999d0>"
            ]
          },
          "metadata": {},
          "execution_count": 120
        },
        {
          "output_type": "display_data",
          "data": {
            "image/png": "[encoded data removed]",
            "text/plain": [
              "<Figure size 432x288 with 1 Axes>"
            ]
          },
          "metadata": {}
        }
      ]
    },
    {
      "cell_type": "markdown",
      "metadata": {
        "id": "_lA3OC2AvLRa"
      },
      "source": [
        "### **Ridge Regression**"
      ]
    },
    {
      "cell_type": "code",
      "metadata": {
        "colab": {
          "base_uri": "https://localhost:8080/"
        },
        "id": "SfVz4t6mE_Fb",
        "outputId": "722bc16c-5ae1-4184-9c76-da2f52c8b6ab"
      },
      "source": [
        "#Finding the alpha that will be applied during penalization of l2\n",
        "r1= Ridge(normalize=True)\n",
        "grid_ridge =  GridSearchCV(estimator=r1, param_grid={'alpha' : np.arange(0.001, 8, 10)}, cv=10, n_jobs=1, refit=True)\n",
        "grid_ridge.fit(x_train, y_train)\n",
        "grid_ridge.best_params_\n",
        "#The computed alpha is 0.001"
      ],
      "execution_count": 47,
      "outputs": [
        {
          "output_type": "execute_result",
          "data": {
            "text/plain": [
              "{'alpha': 0.001}"
            ]
          },
          "metadata": {},
          "execution_count": 47
        }
      ]
    },
    {
      "cell_type": "code",
      "metadata": {
        "colab": {
          "base_uri": "https://localhost:8080/",
          "height": 414
        },
        "id": "XnyM_IXYGqQD",
        "outputId": "e6b4fa28-ad15-4257-e42d-fff2bb71c113"
      },
      "source": [
        "r = Ridge(alpha=0.001, normalize=True)\n",
        "r.fit(x_train, y_train)\n",
        "y_pred_r = r.predict(x_test)\n",
        "\n",
        "pred_df_r = pd.DataFrame({'Actual_price' : y_test, 'Predicted_price' : y_pred_r})\n",
        "pred_df_r"
      ],
      "execution_count": 48,
      "outputs": [
        {
          "output_type": "execute_result",
          "data": {
            "text/html": [
              "<div>\n",
              "<style scoped>\n",
              "    .dataframe tbody tr th:only-of-type {\n",
              "        vertical-align: middle;\n",
              "    }\n",
              "\n",
              "    .dataframe tbody tr th {\n",
              "        vertical-align: top;\n",
              "    }\n",
              "\n",
              "    .dataframe thead th {\n",
              "        text-align: right;\n",
              "    }\n",
              "</style>\n",
              "<table border=\"1\" class=\"dataframe\">\n",
              "  <thead>\n",
              "    <tr style=\"text-align: right;\">\n",
              "      <th></th>\n",
              "      <th>Actual_price</th>\n",
              "      <th>Predicted_price</th>\n",
              "    </tr>\n",
              "  </thead>\n",
              "  <tbody>\n",
              "    <tr>\n",
              "      <th>0</th>\n",
              "      <td>680200.0</td>\n",
              "      <td>674320.525375</td>\n",
              "    </tr>\n",
              "    <tr>\n",
              "      <th>1</th>\n",
              "      <td>550000.0</td>\n",
              "      <td>506974.804012</td>\n",
              "    </tr>\n",
              "    <tr>\n",
              "      <th>2</th>\n",
              "      <td>230000.0</td>\n",
              "      <td>264462.605033</td>\n",
              "    </tr>\n",
              "    <tr>\n",
              "      <th>3</th>\n",
              "      <td>379950.0</td>\n",
              "      <td>448192.849445</td>\n",
              "    </tr>\n",
              "    <tr>\n",
              "      <th>4</th>\n",
              "      <td>1060000.0</td>\n",
              "      <td>806888.534729</td>\n",
              "    </tr>\n",
              "    <tr>\n",
              "      <th>...</th>\n",
              "      <td>...</td>\n",
              "      <td>...</td>\n",
              "    </tr>\n",
              "    <tr>\n",
              "      <th>6478</th>\n",
              "      <td>268000.0</td>\n",
              "      <td>226497.765631</td>\n",
              "    </tr>\n",
              "    <tr>\n",
              "      <th>6479</th>\n",
              "      <td>430000.0</td>\n",
              "      <td>461898.738355</td>\n",
              "    </tr>\n",
              "    <tr>\n",
              "      <th>6480</th>\n",
              "      <td>400000.0</td>\n",
              "      <td>370566.845813</td>\n",
              "    </tr>\n",
              "    <tr>\n",
              "      <th>6481</th>\n",
              "      <td>599832.0</td>\n",
              "      <td>708965.579473</td>\n",
              "    </tr>\n",
              "    <tr>\n",
              "      <th>6482</th>\n",
              "      <td>240000.0</td>\n",
              "      <td>230954.237944</td>\n",
              "    </tr>\n",
              "  </tbody>\n",
              "</table>\n",
              "<p>6483 rows × 2 columns</p>\n",
              "</div>"
            ],
            "text/plain": [
              "      Actual_price  Predicted_price\n",
              "0         680200.0    674320.525375\n",
              "1         550000.0    506974.804012\n",
              "2         230000.0    264462.605033\n",
              "3         379950.0    448192.849445\n",
              "4        1060000.0    806888.534729\n",
              "...            ...              ...\n",
              "6478      268000.0    226497.765631\n",
              "6479      430000.0    461898.738355\n",
              "6480      400000.0    370566.845813\n",
              "6481      599832.0    708965.579473\n",
              "6482      240000.0    230954.237944\n",
              "\n",
              "[6483 rows x 2 columns]"
            ]
          },
          "metadata": {},
          "execution_count": 48
        }
      ]
    },
    {
      "cell_type": "code",
      "metadata": {
        "colab": {
          "base_uri": "https://localhost:8080/",
          "height": 600
        },
        "id": "Gz6oIiwYHGeQ",
        "outputId": "7381fd2c-4ff9-43ba-e4f5-f5401bc8eaa2"
      },
      "source": [
        "coeff_r = pd.DataFrame(r.coef_, x1.columns, columns=['Coefficient'])\n",
        "coeff_r"
      ],
      "execution_count": 49,
      "outputs": [
        {
          "output_type": "execute_result",
          "data": {
            "text/html": [
              "<div>\n",
              "<style scoped>\n",
              "    .dataframe tbody tr th:only-of-type {\n",
              "        vertical-align: middle;\n",
              "    }\n",
              "\n",
              "    .dataframe tbody tr th {\n",
              "        vertical-align: top;\n",
              "    }\n",
              "\n",
              "    .dataframe thead th {\n",
              "        text-align: right;\n",
              "    }\n",
              "</style>\n",
              "<table border=\"1\" class=\"dataframe\">\n",
              "  <thead>\n",
              "    <tr style=\"text-align: right;\">\n",
              "      <th></th>\n",
              "      <th>Coefficient</th>\n",
              "    </tr>\n",
              "  </thead>\n",
              "  <tbody>\n",
              "    <tr>\n",
              "      <th>Bedrooms</th>\n",
              "      <td>-38735.344755</td>\n",
              "    </tr>\n",
              "    <tr>\n",
              "      <th>Bathrooms</th>\n",
              "      <td>40623.992912</td>\n",
              "    </tr>\n",
              "    <tr>\n",
              "      <th>Sqft_Living</th>\n",
              "      <td>85.303527</td>\n",
              "    </tr>\n",
              "    <tr>\n",
              "      <th>Sqft_Lot</th>\n",
              "      <td>0.172055</td>\n",
              "    </tr>\n",
              "    <tr>\n",
              "      <th>Floors</th>\n",
              "      <td>10627.644866</td>\n",
              "    </tr>\n",
              "    <tr>\n",
              "      <th>Waterfront</th>\n",
              "      <td>649222.141706</td>\n",
              "    </tr>\n",
              "    <tr>\n",
              "      <th>View</th>\n",
              "      <td>51893.785442</td>\n",
              "    </tr>\n",
              "    <tr>\n",
              "      <th>Condition</th>\n",
              "      <td>28264.874636</td>\n",
              "    </tr>\n",
              "    <tr>\n",
              "      <th>Grade</th>\n",
              "      <td>97214.630779</td>\n",
              "    </tr>\n",
              "    <tr>\n",
              "      <th>Sqft_Above</th>\n",
              "      <td>87.008126</td>\n",
              "    </tr>\n",
              "    <tr>\n",
              "      <th>Sqft_Basement</th>\n",
              "      <td>63.712787</td>\n",
              "    </tr>\n",
              "    <tr>\n",
              "      <th>Yr_Built</th>\n",
              "      <td>-2592.997463</td>\n",
              "    </tr>\n",
              "    <tr>\n",
              "      <th>Yr_Renovated</th>\n",
              "      <td>19.561189</td>\n",
              "    </tr>\n",
              "    <tr>\n",
              "      <th>Zipcode</th>\n",
              "      <td>-543.588702</td>\n",
              "    </tr>\n",
              "    <tr>\n",
              "      <th>Lat</th>\n",
              "      <td>594826.980228</td>\n",
              "    </tr>\n",
              "    <tr>\n",
              "      <th>Long</th>\n",
              "      <td>-209989.924940</td>\n",
              "    </tr>\n",
              "    <tr>\n",
              "      <th>Sqft_Living15</th>\n",
              "      <td>26.835885</td>\n",
              "    </tr>\n",
              "    <tr>\n",
              "      <th>Sqft_Lot15</th>\n",
              "      <td>-0.382972</td>\n",
              "    </tr>\n",
              "  </tbody>\n",
              "</table>\n",
              "</div>"
            ],
            "text/plain": [
              "                 Coefficient\n",
              "Bedrooms       -38735.344755\n",
              "Bathrooms       40623.992912\n",
              "Sqft_Living        85.303527\n",
              "Sqft_Lot            0.172055\n",
              "Floors          10627.644866\n",
              "Waterfront     649222.141706\n",
              "View            51893.785442\n",
              "Condition       28264.874636\n",
              "Grade           97214.630779\n",
              "Sqft_Above         87.008126\n",
              "Sqft_Basement      63.712787\n",
              "Yr_Built        -2592.997463\n",
              "Yr_Renovated       19.561189\n",
              "Zipcode          -543.588702\n",
              "Lat            594826.980228\n",
              "Long          -209989.924940\n",
              "Sqft_Living15      26.835885\n",
              "Sqft_Lot15         -0.382972"
            ]
          },
          "metadata": {},
          "execution_count": 49
        }
      ]
    },
    {
      "cell_type": "markdown",
      "metadata": {
        "id": "Rb17PqGRIHFs"
      },
      "source": [
        "The coefficients have adjusted in the ridge regularized model"
      ]
    },
    {
      "cell_type": "code",
      "metadata": {
        "colab": {
          "base_uri": "https://localhost:8080/"
        },
        "id": "nqhrrtYJG7IV",
        "outputId": "4bd15aab-d794-4a01-dcd3-dda1e8904240"
      },
      "source": [
        "print(cross_val_score(r, x, y, cv=10, scoring=\"r2\").mean())\n",
        "print('The RMSE for Linear Regressor is : ', np.sqrt(metrics.mean_squared_error(y_test, y_pred_r)))"
      ],
      "execution_count": 50,
      "outputs": [
        {
          "output_type": "stream",
          "name": "stdout",
          "text": [
            "0.6952709778310251\n",
            "The RMSE for Linear Regressor is :  206601.04017573106\n"
          ]
        }
      ]
    },
    {
      "cell_type": "markdown",
      "metadata": {
        "id": "Ae_mNEBTIj4H"
      },
      "source": [
        "**Summary:**The R2 score is 0.7 which is above 0.5. While the RMSE of linear regression is 206599.85858395929. The RMSE of the ridge model is 206601.04017573106 which is an increase of the linear model."
      ]
    },
    {
      "cell_type": "code",
      "metadata": {
        "colab": {
          "base_uri": "https://localhost:8080/",
          "height": 310
        },
        "id": "5Gb6Xu6DLy_y",
        "outputId": "ca6efdc5-e606-49ab-ecb9-6cf91124e062"
      },
      "source": [
        "#plotting residuals for the ridge model\n",
        "residuals_r = np.subtract(y_pred_r, y_test)\n",
        "plt.scatter(y_pred_r, residuals_r, color='black')\n",
        "plt.ylabel('residual')\n",
        "plt.xlabel('fitted values')\n",
        "plt.axhline(y= residuals.mean(), color='red', linewidth=1)\n",
        "plt.show()"
      ],
      "execution_count": 51,
      "outputs": [
        {
          "output_type": "display_data",
          "data": {
            "image/png": "[encoded data removed]",
            "text/plain": [
              "<Figure size 432x288 with 1 Axes>"
            ]
          },
          "metadata": {}
        }
      ]
    },
    {
      "cell_type": "code",
      "metadata": {
        "colab": {
          "base_uri": "https://localhost:8080/"
        },
        "id": "gKy_iY87MJBG",
        "outputId": "7e7c1562-f0b9-4363-b863-b25829eb7e02"
      },
      "source": [
        "#Checking for hetescdasticity to determine the suitability the multiple ridge regression model\n",
        "test_result, p_value = bartlett(y_pred_r,residuals_r)\n",
        "degree_of_freedom = len(y_pred_r)-1\n",
        "probability = 1 - p_value\n",
        "critical_value =chi2.ppf(probability, degree_of_freedom)\n",
        "if (test_result > critical_value):\n",
        "  print('The variances are unequal, and the model should be reassessed')\n",
        "else:\n",
        "  print('The variances are homogeneous!')"
      ],
      "execution_count": 52,
      "outputs": [
        {
          "output_type": "stream",
          "name": "stdout",
          "text": [
            "The variances are homogeneous!\n"
          ]
        }
      ]
    },
    {
      "cell_type": "markdown",
      "metadata": {
        "id": "IGwis3GPvPOJ"
      },
      "source": [
        "### **Lasso Regression**"
      ]
    },
    {
      "cell_type": "code",
      "metadata": {
        "colab": {
          "base_uri": "https://localhost:8080/"
        },
        "id": "zAW2ryFOJKOz",
        "outputId": "2b99c8ed-9ddd-4e85-d49d-ff4bcbfae2af"
      },
      "source": [
        "#Finding the alpha that will be applied during penalization of l1\n",
        "l1= Lasso(normalize=True)\n",
        "grid_lasso =  GridSearchCV(estimator=l1, param_grid={'alpha' : np.concatenate((np.arange(0.1,2,0.1), np.arange(2, 5, 0.5), np.arange(5, 25, 1)))}, cv=10, n_jobs=1, refit=True)\n",
        "grid_lasso.fit(x_train, y_train)\n",
        "grid_lasso.best_params_\n",
        "#The computed alpha is 1.1"
      ],
      "execution_count": 53,
      "outputs": [
        {
          "output_type": "stream",
          "name": "stderr",
          "text": [
            "/usr/local/lib/python3.7/dist-packages/sklearn/linear_model/_coordinate_descent.py:476: ConvergenceWarning: Objective did not converge. You might want to increase the number of iterations. Duality gap: 16587983799963.5, tolerance: 175937555260.17368\n",
            "  positive)\n",
            "/usr/local/lib/python3.7/dist-packages/sklearn/linear_model/_coordinate_descent.py:476: ConvergenceWarning: Objective did not converge. You might want to increase the number of iterations. Duality gap: 16955632355249.75, tolerance: 179230688480.5665\n",
            "  positive)\n",
            "/usr/local/lib/python3.7/dist-packages/sklearn/linear_model/_coordinate_descent.py:476: ConvergenceWarning: Objective did not converge. You might want to increase the number of iterations. Duality gap: 17042903885115.188, tolerance: 181150911921.16602\n",
            "  positive)\n",
            "/usr/local/lib/python3.7/dist-packages/sklearn/linear_model/_coordinate_descent.py:476: ConvergenceWarning: Objective did not converge. You might want to increase the number of iterations. Duality gap: 16956190772351.188, tolerance: 181344219444.50854\n",
            "  positive)\n",
            "/usr/local/lib/python3.7/dist-packages/sklearn/linear_model/_coordinate_descent.py:476: ConvergenceWarning: Objective did not converge. You might want to increase the number of iterations. Duality gap: 16987945146833.5, tolerance: 180417041145.60092\n",
            "  positive)\n",
            "/usr/local/lib/python3.7/dist-packages/sklearn/linear_model/_coordinate_descent.py:476: ConvergenceWarning: Objective did not converge. You might want to increase the number of iterations. Duality gap: 17093129999395.875, tolerance: 179876492879.0289\n",
            "  positive)\n",
            "/usr/local/lib/python3.7/dist-packages/sklearn/linear_model/_coordinate_descent.py:476: ConvergenceWarning: Objective did not converge. You might want to increase the number of iterations. Duality gap: 17047370883378.75, tolerance: 181613575543.5362\n",
            "  positive)\n",
            "/usr/local/lib/python3.7/dist-packages/sklearn/linear_model/_coordinate_descent.py:476: ConvergenceWarning: Objective did not converge. You might want to increase the number of iterations. Duality gap: 16737765955351.688, tolerance: 177279647497.38614\n",
            "  positive)\n",
            "/usr/local/lib/python3.7/dist-packages/sklearn/linear_model/_coordinate_descent.py:476: ConvergenceWarning: Objective did not converge. You might want to increase the number of iterations. Duality gap: 17145538343350.875, tolerance: 178923971964.1364\n",
            "  positive)\n",
            "/usr/local/lib/python3.7/dist-packages/sklearn/linear_model/_coordinate_descent.py:476: ConvergenceWarning: Objective did not converge. You might want to increase the number of iterations. Duality gap: 17541136048056.125, tolerance: 182792681593.66357\n",
            "  positive)\n",
            "/usr/local/lib/python3.7/dist-packages/sklearn/linear_model/_coordinate_descent.py:476: ConvergenceWarning: Objective did not converge. You might want to increase the number of iterations. Duality gap: 16694967429720.688, tolerance: 175937555260.17368\n",
            "  positive)\n",
            "/usr/local/lib/python3.7/dist-packages/sklearn/linear_model/_coordinate_descent.py:476: ConvergenceWarning: Objective did not converge. You might want to increase the number of iterations. Duality gap: 17063324370072.75, tolerance: 179230688480.5665\n",
            "  positive)\n",
            "/usr/local/lib/python3.7/dist-packages/sklearn/linear_model/_coordinate_descent.py:476: ConvergenceWarning: Objective did not converge. You might want to increase the number of iterations. Duality gap: 17153266521263.438, tolerance: 181150911921.16602\n",
            "  positive)\n",
            "/usr/local/lib/python3.7/dist-packages/sklearn/linear_model/_coordinate_descent.py:476: ConvergenceWarning: Objective did not converge. You might want to increase the number of iterations. Duality gap: 17065801665785.688, tolerance: 181344219444.50854\n",
            "  positive)\n",
            "/usr/local/lib/python3.7/dist-packages/sklearn/linear_model/_coordinate_descent.py:476: ConvergenceWarning: Objective did not converge. You might want to increase the number of iterations. Duality gap: 17095912560365.812, tolerance: 180417041145.60092\n",
            "  positive)\n",
            "/usr/local/lib/python3.7/dist-packages/sklearn/linear_model/_coordinate_descent.py:476: ConvergenceWarning: Objective did not converge. You might want to increase the number of iterations. Duality gap: 17203275256716.75, tolerance: 179876492879.0289\n",
            "  positive)\n",
            "/usr/local/lib/python3.7/dist-packages/sklearn/linear_model/_coordinate_descent.py:476: ConvergenceWarning: Objective did not converge. You might want to increase the number of iterations. Duality gap: 17156952274799.875, tolerance: 181613575543.5362\n",
            "  positive)\n",
            "/usr/local/lib/python3.7/dist-packages/sklearn/linear_model/_coordinate_descent.py:476: ConvergenceWarning: Objective did not converge. You might want to increase the number of iterations. Duality gap: 16843437623273.312, tolerance: 177279647497.38614\n",
            "  positive)\n",
            "/usr/local/lib/python3.7/dist-packages/sklearn/linear_model/_coordinate_descent.py:476: ConvergenceWarning: Objective did not converge. You might want to increase the number of iterations. Duality gap: 17253918387196.0, tolerance: 178923971964.1364\n",
            "  positive)\n",
            "/usr/local/lib/python3.7/dist-packages/sklearn/linear_model/_coordinate_descent.py:476: ConvergenceWarning: Objective did not converge. You might want to increase the number of iterations. Duality gap: 17651607736777.438, tolerance: 182792681593.66357\n",
            "  positive)\n",
            "/usr/local/lib/python3.7/dist-packages/sklearn/linear_model/_coordinate_descent.py:476: ConvergenceWarning: Objective did not converge. You might want to increase the number of iterations. Duality gap: 16781374960866.688, tolerance: 175937555260.17368\n",
            "  positive)\n",
            "/usr/local/lib/python3.7/dist-packages/sklearn/linear_model/_coordinate_descent.py:476: ConvergenceWarning: Objective did not converge. You might want to increase the number of iterations. Duality gap: 17150465154938.25, tolerance: 179230688480.5665\n",
            "  positive)\n",
            "/usr/local/lib/python3.7/dist-packages/sklearn/linear_model/_coordinate_descent.py:476: ConvergenceWarning: Objective did not converge. You might want to increase the number of iterations. Duality gap: 17243073862486.688, tolerance: 181150911921.16602\n",
            "  positive)\n",
            "/usr/local/lib/python3.7/dist-packages/sklearn/linear_model/_coordinate_descent.py:476: ConvergenceWarning: Objective did not converge. You might want to increase the number of iterations. Duality gap: 17154843865010.812, tolerance: 181344219444.50854\n",
            "  positive)\n",
            "/usr/local/lib/python3.7/dist-packages/sklearn/linear_model/_coordinate_descent.py:476: ConvergenceWarning: Objective did not converge. You might want to increase the number of iterations. Duality gap: 17183315866241.125, tolerance: 180417041145.60092\n",
            "  positive)\n",
            "/usr/local/lib/python3.7/dist-packages/sklearn/linear_model/_coordinate_descent.py:476: ConvergenceWarning: Objective did not converge. You might want to increase the number of iterations. Duality gap: 17292859103476.812, tolerance: 179876492879.0289\n",
            "  positive)\n",
            "/usr/local/lib/python3.7/dist-packages/sklearn/linear_model/_coordinate_descent.py:476: ConvergenceWarning: Objective did not converge. You might want to increase the number of iterations. Duality gap: 17245947528666.062, tolerance: 181613575543.5362\n",
            "  positive)\n",
            "/usr/local/lib/python3.7/dist-packages/sklearn/linear_model/_coordinate_descent.py:476: ConvergenceWarning: Objective did not converge. You might want to increase the number of iterations. Duality gap: 16928555733600.938, tolerance: 177279647497.38614\n",
            "  positive)\n",
            "/usr/local/lib/python3.7/dist-packages/sklearn/linear_model/_coordinate_descent.py:476: ConvergenceWarning: Objective did not converge. You might want to increase the number of iterations. Duality gap: 17341723029998.438, tolerance: 178923971964.1364\n",
            "  positive)\n",
            "/usr/local/lib/python3.7/dist-packages/sklearn/linear_model/_coordinate_descent.py:476: ConvergenceWarning: Objective did not converge. You might want to increase the number of iterations. Duality gap: 17741512431719.625, tolerance: 182792681593.66357\n",
            "  positive)\n",
            "/usr/local/lib/python3.7/dist-packages/sklearn/linear_model/_coordinate_descent.py:476: ConvergenceWarning: Objective did not converge. You might want to increase the number of iterations. Duality gap: 368241191548.3125, tolerance: 175937555260.17368\n",
            "  positive)\n",
            "/usr/local/lib/python3.7/dist-packages/sklearn/linear_model/_coordinate_descent.py:476: ConvergenceWarning: Objective did not converge. You might want to increase the number of iterations. Duality gap: 370709065906.875, tolerance: 179230688480.5665\n",
            "  positive)\n",
            "/usr/local/lib/python3.7/dist-packages/sklearn/linear_model/_coordinate_descent.py:476: ConvergenceWarning: Objective did not converge. You might want to increase the number of iterations. Duality gap: 394590037663.875, tolerance: 181150911921.16602\n",
            "  positive)\n",
            "/usr/local/lib/python3.7/dist-packages/sklearn/linear_model/_coordinate_descent.py:476: ConvergenceWarning: Objective did not converge. You might want to increase the number of iterations. Duality gap: 362647074593.3125, tolerance: 181344219444.50854\n",
            "  positive)\n",
            "/usr/local/lib/python3.7/dist-packages/sklearn/linear_model/_coordinate_descent.py:476: ConvergenceWarning: Objective did not converge. You might want to increase the number of iterations. Duality gap: 396745100127.6875, tolerance: 180417041145.60092\n",
            "  positive)\n",
            "/usr/local/lib/python3.7/dist-packages/sklearn/linear_model/_coordinate_descent.py:476: ConvergenceWarning: Objective did not converge. You might want to increase the number of iterations. Duality gap: 384108520135.1875, tolerance: 179876492879.0289\n",
            "  positive)\n",
            "/usr/local/lib/python3.7/dist-packages/sklearn/linear_model/_coordinate_descent.py:476: ConvergenceWarning: Objective did not converge. You might want to increase the number of iterations. Duality gap: 418131864159.25, tolerance: 181613575543.5362\n",
            "  positive)\n",
            "/usr/local/lib/python3.7/dist-packages/sklearn/linear_model/_coordinate_descent.py:476: ConvergenceWarning: Objective did not converge. You might want to increase the number of iterations. Duality gap: 390973742381.1875, tolerance: 177279647497.38614\n",
            "  positive)\n",
            "/usr/local/lib/python3.7/dist-packages/sklearn/linear_model/_coordinate_descent.py:476: ConvergenceWarning: Objective did not converge. You might want to increase the number of iterations. Duality gap: 367473844319.875, tolerance: 178923971964.1364\n",
            "  positive)\n",
            "/usr/local/lib/python3.7/dist-packages/sklearn/linear_model/_coordinate_descent.py:476: ConvergenceWarning: Objective did not converge. You might want to increase the number of iterations. Duality gap: 410729008165.8125, tolerance: 182792681593.66357\n",
            "  positive)\n",
            "/usr/local/lib/python3.7/dist-packages/sklearn/linear_model/_coordinate_descent.py:476: ConvergenceWarning: Objective did not converge. You might want to increase the number of iterations. Duality gap: 391202159392.6875, tolerance: 175937555260.17368\n",
            "  positive)\n",
            "/usr/local/lib/python3.7/dist-packages/sklearn/linear_model/_coordinate_descent.py:476: ConvergenceWarning: Objective did not converge. You might want to increase the number of iterations. Duality gap: 393985346538.0, tolerance: 179230688480.5665\n",
            "  positive)\n",
            "/usr/local/lib/python3.7/dist-packages/sklearn/linear_model/_coordinate_descent.py:476: ConvergenceWarning: Objective did not converge. You might want to increase the number of iterations. Duality gap: 418510090369.4375, tolerance: 181150911921.16602\n",
            "  positive)\n",
            "/usr/local/lib/python3.7/dist-packages/sklearn/linear_model/_coordinate_descent.py:476: ConvergenceWarning: Objective did not converge. You might want to increase the number of iterations. Duality gap: 386580944902.1875, tolerance: 181344219444.50854\n",
            "  positive)\n",
            "/usr/local/lib/python3.7/dist-packages/sklearn/linear_model/_coordinate_descent.py:476: ConvergenceWarning: Objective did not converge. You might want to increase the number of iterations. Duality gap: 420206165909.75, tolerance: 180417041145.60092\n",
            "  positive)\n",
            "/usr/local/lib/python3.7/dist-packages/sklearn/linear_model/_coordinate_descent.py:476: ConvergenceWarning: Objective did not converge. You might want to increase the number of iterations. Duality gap: 407992746041.5, tolerance: 179876492879.0289\n",
            "  positive)\n",
            "/usr/local/lib/python3.7/dist-packages/sklearn/linear_model/_coordinate_descent.py:476: ConvergenceWarning: Objective did not converge. You might want to increase the number of iterations. Duality gap: 442299417399.625, tolerance: 181613575543.5362\n",
            "  positive)\n",
            "/usr/local/lib/python3.7/dist-packages/sklearn/linear_model/_coordinate_descent.py:476: ConvergenceWarning: Objective did not converge. You might want to increase the number of iterations. Duality gap: 413822711299.75, tolerance: 177279647497.38614\n",
            "  positive)\n",
            "/usr/local/lib/python3.7/dist-packages/sklearn/linear_model/_coordinate_descent.py:476: ConvergenceWarning: Objective did not converge. You might want to increase the number of iterations. Duality gap: 391059433836.25, tolerance: 178923971964.1364\n",
            "  positive)\n",
            "/usr/local/lib/python3.7/dist-packages/sklearn/linear_model/_coordinate_descent.py:476: ConvergenceWarning: Objective did not converge. You might want to increase the number of iterations. Duality gap: 434949335959.3125, tolerance: 182792681593.66357\n",
            "  positive)\n",
            "/usr/local/lib/python3.7/dist-packages/sklearn/linear_model/_coordinate_descent.py:476: ConvergenceWarning: Objective did not converge. You might want to increase the number of iterations. Duality gap: 412911857591.1875, tolerance: 175937555260.17368\n",
            "  positive)\n",
            "/usr/local/lib/python3.7/dist-packages/sklearn/linear_model/_coordinate_descent.py:476: ConvergenceWarning: Objective did not converge. You might want to increase the number of iterations. Duality gap: 416015333569.1875, tolerance: 179230688480.5665\n",
            "  positive)\n",
            "/usr/local/lib/python3.7/dist-packages/sklearn/linear_model/_coordinate_descent.py:476: ConvergenceWarning: Objective did not converge. You might want to increase the number of iterations. Duality gap: 441179274396.8125, tolerance: 181150911921.16602\n",
            "  positive)\n",
            "/usr/local/lib/python3.7/dist-packages/sklearn/linear_model/_coordinate_descent.py:476: ConvergenceWarning: Objective did not converge. You might want to increase the number of iterations. Duality gap: 409271028439.4375, tolerance: 181344219444.50854\n",
            "  positive)\n",
            "/usr/local/lib/python3.7/dist-packages/sklearn/linear_model/_coordinate_descent.py:476: ConvergenceWarning: Objective did not converge. You might want to increase the number of iterations. Duality gap: 442431818132.0625, tolerance: 180417041145.60092\n",
            "  positive)\n",
            "/usr/local/lib/python3.7/dist-packages/sklearn/linear_model/_coordinate_descent.py:476: ConvergenceWarning: Objective did not converge. You might want to increase the number of iterations. Duality gap: 430617489621.125, tolerance: 179876492879.0289\n",
            "  positive)\n",
            "/usr/local/lib/python3.7/dist-packages/sklearn/linear_model/_coordinate_descent.py:476: ConvergenceWarning: Objective did not converge. You might want to increase the number of iterations. Duality gap: 465210289878.375, tolerance: 181613575543.5362\n",
            "  positive)\n",
            "/usr/local/lib/python3.7/dist-packages/sklearn/linear_model/_coordinate_descent.py:476: ConvergenceWarning: Objective did not converge. You might want to increase the number of iterations. Duality gap: 435446111712.875, tolerance: 177279647497.38614\n",
            "  positive)\n",
            "/usr/local/lib/python3.7/dist-packages/sklearn/linear_model/_coordinate_descent.py:476: ConvergenceWarning: Objective did not converge. You might want to increase the number of iterations. Duality gap: 413384920039.3125, tolerance: 178923971964.1364\n",
            "  positive)\n",
            "/usr/local/lib/python3.7/dist-packages/sklearn/linear_model/_coordinate_descent.py:476: ConvergenceWarning: Objective did not converge. You might want to increase the number of iterations. Duality gap: 457908114456.9375, tolerance: 182792681593.66357\n",
            "  positive)\n",
            "/usr/local/lib/python3.7/dist-packages/sklearn/linear_model/_coordinate_descent.py:476: ConvergenceWarning: Objective did not converge. You might want to increase the number of iterations. Duality gap: 2624649369151.5625, tolerance: 179230688480.5665\n",
            "  positive)\n",
            "/usr/local/lib/python3.7/dist-packages/sklearn/linear_model/_coordinate_descent.py:476: ConvergenceWarning: Objective did not converge. You might want to increase the number of iterations. Duality gap: 430719223833.0625, tolerance: 181344219444.50854\n",
            "  positive)\n",
            "/usr/local/lib/python3.7/dist-packages/sklearn/linear_model/_coordinate_descent.py:476: ConvergenceWarning: Objective did not converge. You might want to increase the number of iterations. Duality gap: 4214156933919.1875, tolerance: 180417041145.60092\n",
            "  positive)\n",
            "/usr/local/lib/python3.7/dist-packages/sklearn/linear_model/_coordinate_descent.py:476: ConvergenceWarning: Objective did not converge. You might want to increase the number of iterations. Duality gap: 486871400935.0, tolerance: 181613575543.5362\n",
            "  positive)\n",
            "/usr/local/lib/python3.7/dist-packages/sklearn/linear_model/_coordinate_descent.py:476: ConvergenceWarning: Objective did not converge. You might want to increase the number of iterations. Duality gap: 479606516474.125, tolerance: 182792681593.66357\n",
            "  positive)\n"
          ]
        },
        {
          "output_type": "execute_result",
          "data": {
            "text/plain": [
              "{'alpha': 1.1}"
            ]
          },
          "metadata": {},
          "execution_count": 53
        }
      ]
    },
    {
      "cell_type": "code",
      "metadata": {
        "colab": {
          "base_uri": "https://localhost:8080/",
          "height": 414
        },
        "id": "vdtf493KKHe5",
        "outputId": "9827e398-b123-43dd-b65a-1c72b6cccbf3"
      },
      "source": [
        "l = Lasso(alpha=1.1, normalize=True)\n",
        "l.fit(x_train, y_train)\n",
        "y_pred_l = l.predict(x_test)\n",
        "\n",
        "pred_df_l = pd.DataFrame({'Actual_price' : y_test, 'Predicted_price' : y_pred_l})\n",
        "pred_df_l"
      ],
      "execution_count": 54,
      "outputs": [
        {
          "output_type": "execute_result",
          "data": {
            "text/html": [
              "<div>\n",
              "<style scoped>\n",
              "    .dataframe tbody tr th:only-of-type {\n",
              "        vertical-align: middle;\n",
              "    }\n",
              "\n",
              "    .dataframe tbody tr th {\n",
              "        vertical-align: top;\n",
              "    }\n",
              "\n",
              "    .dataframe thead th {\n",
              "        text-align: right;\n",
              "    }\n",
              "</style>\n",
              "<table border=\"1\" class=\"dataframe\">\n",
              "  <thead>\n",
              "    <tr style=\"text-align: right;\">\n",
              "      <th></th>\n",
              "      <th>Actual_price</th>\n",
              "      <th>Predicted_price</th>\n",
              "    </tr>\n",
              "  </thead>\n",
              "  <tbody>\n",
              "    <tr>\n",
              "      <th>0</th>\n",
              "      <td>680200.0</td>\n",
              "      <td>674241.607114</td>\n",
              "    </tr>\n",
              "    <tr>\n",
              "      <th>1</th>\n",
              "      <td>550000.0</td>\n",
              "      <td>506942.166672</td>\n",
              "    </tr>\n",
              "    <tr>\n",
              "      <th>2</th>\n",
              "      <td>230000.0</td>\n",
              "      <td>264929.966540</td>\n",
              "    </tr>\n",
              "    <tr>\n",
              "      <th>3</th>\n",
              "      <td>379950.0</td>\n",
              "      <td>448147.060618</td>\n",
              "    </tr>\n",
              "    <tr>\n",
              "      <th>4</th>\n",
              "      <td>1060000.0</td>\n",
              "      <td>807388.097166</td>\n",
              "    </tr>\n",
              "    <tr>\n",
              "      <th>...</th>\n",
              "      <td>...</td>\n",
              "      <td>...</td>\n",
              "    </tr>\n",
              "    <tr>\n",
              "      <th>6478</th>\n",
              "      <td>268000.0</td>\n",
              "      <td>226520.174103</td>\n",
              "    </tr>\n",
              "    <tr>\n",
              "      <th>6479</th>\n",
              "      <td>430000.0</td>\n",
              "      <td>461712.575833</td>\n",
              "    </tr>\n",
              "    <tr>\n",
              "      <th>6480</th>\n",
              "      <td>400000.0</td>\n",
              "      <td>371175.427914</td>\n",
              "    </tr>\n",
              "    <tr>\n",
              "      <th>6481</th>\n",
              "      <td>599832.0</td>\n",
              "      <td>709161.337466</td>\n",
              "    </tr>\n",
              "    <tr>\n",
              "      <th>6482</th>\n",
              "      <td>240000.0</td>\n",
              "      <td>230883.307714</td>\n",
              "    </tr>\n",
              "  </tbody>\n",
              "</table>\n",
              "<p>6483 rows × 2 columns</p>\n",
              "</div>"
            ],
            "text/plain": [
              "      Actual_price  Predicted_price\n",
              "0         680200.0    674241.607114\n",
              "1         550000.0    506942.166672\n",
              "2         230000.0    264929.966540\n",
              "3         379950.0    448147.060618\n",
              "4        1060000.0    807388.097166\n",
              "...            ...              ...\n",
              "6478      268000.0    226520.174103\n",
              "6479      430000.0    461712.575833\n",
              "6480      400000.0    371175.427914\n",
              "6481      599832.0    709161.337466\n",
              "6482      240000.0    230883.307714\n",
              "\n",
              "[6483 rows x 2 columns]"
            ]
          },
          "metadata": {},
          "execution_count": 54
        }
      ]
    },
    {
      "cell_type": "code",
      "metadata": {
        "colab": {
          "base_uri": "https://localhost:8080/",
          "height": 600
        },
        "id": "zROTjf8lKM32",
        "outputId": "51b42c35-1092-4d4f-9d3f-258d5f415f8e"
      },
      "source": [
        "coeff_l = pd.DataFrame(l.coef_, x1.columns, columns=['Coefficient'])\n",
        "coeff_l"
      ],
      "execution_count": 55,
      "outputs": [
        {
          "output_type": "execute_result",
          "data": {
            "text/html": [
              "<div>\n",
              "<style scoped>\n",
              "    .dataframe tbody tr th:only-of-type {\n",
              "        vertical-align: middle;\n",
              "    }\n",
              "\n",
              "    .dataframe tbody tr th {\n",
              "        vertical-align: top;\n",
              "    }\n",
              "\n",
              "    .dataframe thead th {\n",
              "        text-align: right;\n",
              "    }\n",
              "</style>\n",
              "<table border=\"1\" class=\"dataframe\">\n",
              "  <thead>\n",
              "    <tr style=\"text-align: right;\">\n",
              "      <th></th>\n",
              "      <th>Coefficient</th>\n",
              "    </tr>\n",
              "  </thead>\n",
              "  <tbody>\n",
              "    <tr>\n",
              "      <th>Bedrooms</th>\n",
              "      <td>-38436.149961</td>\n",
              "    </tr>\n",
              "    <tr>\n",
              "      <th>Bathrooms</th>\n",
              "      <td>40335.355957</td>\n",
              "    </tr>\n",
              "    <tr>\n",
              "      <th>Sqft_Living</th>\n",
              "      <td>149.078015</td>\n",
              "    </tr>\n",
              "    <tr>\n",
              "      <th>Sqft_Lot</th>\n",
              "      <td>0.160974</td>\n",
              "    </tr>\n",
              "    <tr>\n",
              "      <th>Floors</th>\n",
              "      <td>10274.581017</td>\n",
              "    </tr>\n",
              "    <tr>\n",
              "      <th>Waterfront</th>\n",
              "      <td>648818.177252</td>\n",
              "    </tr>\n",
              "    <tr>\n",
              "      <th>View</th>\n",
              "      <td>51860.678496</td>\n",
              "    </tr>\n",
              "    <tr>\n",
              "      <th>Condition</th>\n",
              "      <td>28045.970899</td>\n",
              "    </tr>\n",
              "    <tr>\n",
              "      <th>Grade</th>\n",
              "      <td>97479.767602</td>\n",
              "    </tr>\n",
              "    <tr>\n",
              "      <th>Sqft_Above</th>\n",
              "      <td>23.210069</td>\n",
              "    </tr>\n",
              "    <tr>\n",
              "      <th>Sqft_Basement</th>\n",
              "      <td>0.000000</td>\n",
              "    </tr>\n",
              "    <tr>\n",
              "      <th>Yr_Built</th>\n",
              "      <td>-2590.315551</td>\n",
              "    </tr>\n",
              "    <tr>\n",
              "      <th>Yr_Renovated</th>\n",
              "      <td>19.283472</td>\n",
              "    </tr>\n",
              "    <tr>\n",
              "      <th>Zipcode</th>\n",
              "      <td>-538.465149</td>\n",
              "    </tr>\n",
              "    <tr>\n",
              "      <th>Lat</th>\n",
              "      <td>594194.102456</td>\n",
              "    </tr>\n",
              "    <tr>\n",
              "      <th>Long</th>\n",
              "      <td>-208050.603906</td>\n",
              "    </tr>\n",
              "    <tr>\n",
              "      <th>Sqft_Living15</th>\n",
              "      <td>26.373436</td>\n",
              "    </tr>\n",
              "    <tr>\n",
              "      <th>Sqft_Lot15</th>\n",
              "      <td>-0.366266</td>\n",
              "    </tr>\n",
              "  </tbody>\n",
              "</table>\n",
              "</div>"
            ],
            "text/plain": [
              "                 Coefficient\n",
              "Bedrooms       -38436.149961\n",
              "Bathrooms       40335.355957\n",
              "Sqft_Living       149.078015\n",
              "Sqft_Lot            0.160974\n",
              "Floors          10274.581017\n",
              "Waterfront     648818.177252\n",
              "View            51860.678496\n",
              "Condition       28045.970899\n",
              "Grade           97479.767602\n",
              "Sqft_Above         23.210069\n",
              "Sqft_Basement       0.000000\n",
              "Yr_Built        -2590.315551\n",
              "Yr_Renovated       19.283472\n",
              "Zipcode          -538.465149\n",
              "Lat            594194.102456\n",
              "Long          -208050.603906\n",
              "Sqft_Living15      26.373436\n",
              "Sqft_Lot15         -0.366266"
            ]
          },
          "metadata": {},
          "execution_count": 55
        }
      ]
    },
    {
      "cell_type": "code",
      "metadata": {
        "colab": {
          "base_uri": "https://localhost:8080/"
        },
        "id": "iFT3izcNKM6X",
        "outputId": "8b23d723-5698-4b07-843e-74c49d311cfd"
      },
      "source": [
        "print(cross_val_score(l, x, y, cv=10, scoring=\"r2\").mean())\n",
        "print('The RMSE for Linear Regressor is : ', np.sqrt(metrics.mean_squared_error(y_test, y_pred_l)))"
      ],
      "execution_count": 56,
      "outputs": [
        {
          "output_type": "stream",
          "name": "stdout",
          "text": [
            "0.6952605457973877\n",
            "The RMSE for Linear Regressor is :  206588.20678078252\n"
          ]
        }
      ]
    },
    {
      "cell_type": "markdown",
      "metadata": {
        "id": "qooPB-DDLFA7"
      },
      "source": [
        "**Summary:**The R2 score is 0.7 which is above 0.5. While the RMSE of linear regression is 206599.85858395929. The RMSE of the lasso model is 206588.20678078252 a slight decrease"
      ]
    },
    {
      "cell_type": "code",
      "metadata": {
        "colab": {
          "base_uri": "https://localhost:8080/",
          "height": 310
        },
        "id": "e2o3F_cEMe_u",
        "outputId": "d3be5761-5337-4b56-f5cd-fb2e7cdc6469"
      },
      "source": [
        "residuals_l = np.subtract(y_pred_l, y_test)\n",
        "#plotting resuduals for the lasso model\n",
        "plt.scatter(y_pred_l, residuals_l, color='black')\n",
        "plt.ylabel('residual')\n",
        "plt.xlabel('fitted values')\n",
        "plt.axhline(y= residuals.mean(), color='red', linewidth=1)\n",
        "plt.show()"
      ],
      "execution_count": 57,
      "outputs": [
        {
          "output_type": "display_data",
          "data": {
            "image/png": "[encoded data removed]",
            "text/plain": [
              "<Figure size 432x288 with 1 Axes>"
            ]
          },
          "metadata": {}
        }
      ]
    },
    {
      "cell_type": "code",
      "metadata": {
        "colab": {
          "base_uri": "https://localhost:8080/"
        },
        "id": "9P2JWFo1MfEl",
        "outputId": "3405157c-98bb-46ae-da26-40da3110d76b"
      },
      "source": [
        "#Checking for hetescdasticity to determine the suitability the multiple lasso regression model\n",
        "test_result, p_value = bartlett(y_pred_l,residuals_l)\n",
        "degree_of_freedom = len(y_pred_l)-1\n",
        "probability = 1 - p_value\n",
        "critical_value =chi2.ppf(probability, degree_of_freedom)\n",
        "if (test_result > critical_value):\n",
        "  print('The variances are unequal, and the model should be reassessed')\n",
        "else:\n",
        "  print('The variances are homogeneous!')"
      ],
      "execution_count": 58,
      "outputs": [
        {
          "output_type": "stream",
          "name": "stdout",
          "text": [
            "The variances are homogeneous!\n"
          ]
        }
      ]
    },
    {
      "cell_type": "markdown",
      "metadata": {
        "id": "ChAvgA2_vUK5"
      },
      "source": [
        "### **Elastic Net Regression**"
      ]
    },
    {
      "cell_type": "code",
      "metadata": {
        "id": "sYtDVKGRM4Kd"
      },
      "source": [
        "e1 = ElasticNet(normalize=True)\n",
        "\n",
        "grid_elastic =  GridSearchCV(estimator=e1, param_grid={'alpha' : np.concatenate((np.arange(0.1,2,0.1), np.arange(2, 5, 0.5), np.arange(5, 25, 1))), 'l1_ratio' : [.2, .4, .6, .8] }, cv=10, n_jobs=1, refit=True)"
      ],
      "execution_count": 59,
      "outputs": []
    },
    {
      "cell_type": "code",
      "metadata": {
        "colab": {
          "base_uri": "https://localhost:8080/"
        },
        "id": "FPMvAvGxNBJB",
        "outputId": "d3ee0a9b-fefa-45d0-cbd9-2ca20629f461"
      },
      "source": [
        "#Finding the alpha that will be applied during penalization of l2\n",
        "grid_elastic.fit(x_train, y_train)\n",
        "grid_elastic.best_params_\n",
        "#The computed alpha is 0.1"
      ],
      "execution_count": 60,
      "outputs": [
        {
          "output_type": "execute_result",
          "data": {
            "text/plain": [
              "{'alpha': 0.1, 'l1_ratio': 0.8}"
            ]
          },
          "metadata": {},
          "execution_count": 60
        }
      ]
    },
    {
      "cell_type": "code",
      "metadata": {
        "colab": {
          "base_uri": "https://localhost:8080/",
          "height": 414
        },
        "id": "yW4x2jMRNBJD",
        "outputId": "b92a2d74-cf55-4b17-cf94-8d802d17b5cc"
      },
      "source": [
        "el = ElasticNet(alpha=0.1,l1_ratio=0.8, normalize=True)\n",
        "el.fit(x_train, y_train)\n",
        "y_pred_el = el.predict(x_test)\n",
        "\n",
        "pred_df_el = pd.DataFrame({'Actual_price' : y_test, 'Predicted_price' : y_pred_el})\n",
        "pred_df_el"
      ],
      "execution_count": 61,
      "outputs": [
        {
          "output_type": "execute_result",
          "data": {
            "text/html": [
              "<div>\n",
              "<style scoped>\n",
              "    .dataframe tbody tr th:only-of-type {\n",
              "        vertical-align: middle;\n",
              "    }\n",
              "\n",
              "    .dataframe tbody tr th {\n",
              "        vertical-align: top;\n",
              "    }\n",
              "\n",
              "    .dataframe thead th {\n",
              "        text-align: right;\n",
              "    }\n",
              "</style>\n",
              "<table border=\"1\" class=\"dataframe\">\n",
              "  <thead>\n",
              "    <tr style=\"text-align: right;\">\n",
              "      <th></th>\n",
              "      <th>Actual_price</th>\n",
              "      <th>Predicted_price</th>\n",
              "    </tr>\n",
              "  </thead>\n",
              "  <tbody>\n",
              "    <tr>\n",
              "      <th>0</th>\n",
              "      <td>680200.0</td>\n",
              "      <td>537226.594044</td>\n",
              "    </tr>\n",
              "    <tr>\n",
              "      <th>1</th>\n",
              "      <td>550000.0</td>\n",
              "      <td>537881.862098</td>\n",
              "    </tr>\n",
              "    <tr>\n",
              "      <th>2</th>\n",
              "      <td>230000.0</td>\n",
              "      <td>535846.582675</td>\n",
              "    </tr>\n",
              "    <tr>\n",
              "      <th>3</th>\n",
              "      <td>379950.0</td>\n",
              "      <td>540280.530766</td>\n",
              "    </tr>\n",
              "    <tr>\n",
              "      <th>4</th>\n",
              "      <td>1060000.0</td>\n",
              "      <td>543554.946134</td>\n",
              "    </tr>\n",
              "    <tr>\n",
              "      <th>...</th>\n",
              "      <td>...</td>\n",
              "      <td>...</td>\n",
              "    </tr>\n",
              "    <tr>\n",
              "      <th>6478</th>\n",
              "      <td>268000.0</td>\n",
              "      <td>535339.399597</td>\n",
              "    </tr>\n",
              "    <tr>\n",
              "      <th>6479</th>\n",
              "      <td>430000.0</td>\n",
              "      <td>535631.540577</td>\n",
              "    </tr>\n",
              "    <tr>\n",
              "      <th>6480</th>\n",
              "      <td>400000.0</td>\n",
              "      <td>536019.106936</td>\n",
              "    </tr>\n",
              "    <tr>\n",
              "      <th>6481</th>\n",
              "      <td>599832.0</td>\n",
              "      <td>542925.229987</td>\n",
              "    </tr>\n",
              "    <tr>\n",
              "      <th>6482</th>\n",
              "      <td>240000.0</td>\n",
              "      <td>532483.664639</td>\n",
              "    </tr>\n",
              "  </tbody>\n",
              "</table>\n",
              "<p>6483 rows × 2 columns</p>\n",
              "</div>"
            ],
            "text/plain": [
              "      Actual_price  Predicted_price\n",
              "0         680200.0    537226.594044\n",
              "1         550000.0    537881.862098\n",
              "2         230000.0    535846.582675\n",
              "3         379950.0    540280.530766\n",
              "4        1060000.0    543554.946134\n",
              "...            ...              ...\n",
              "6478      268000.0    535339.399597\n",
              "6479      430000.0    535631.540577\n",
              "6480      400000.0    536019.106936\n",
              "6481      599832.0    542925.229987\n",
              "6482      240000.0    532483.664639\n",
              "\n",
              "[6483 rows x 2 columns]"
            ]
          },
          "metadata": {},
          "execution_count": 61
        }
      ]
    },
    {
      "cell_type": "code",
      "metadata": {
        "colab": {
          "base_uri": "https://localhost:8080/",
          "height": 600
        },
        "id": "xIkGa9rUNBJF",
        "outputId": "74d815e3-1aa2-4c38-bece-e33b9571f1f9"
      },
      "source": [
        "coeff_el = pd.DataFrame(el.coef_, x1.columns, columns=['Coefficient'])\n",
        "coeff_el"
      ],
      "execution_count": 62,
      "outputs": [
        {
          "output_type": "execute_result",
          "data": {
            "text/html": [
              "<div>\n",
              "<style scoped>\n",
              "    .dataframe tbody tr th:only-of-type {\n",
              "        vertical-align: middle;\n",
              "    }\n",
              "\n",
              "    .dataframe tbody tr th {\n",
              "        vertical-align: top;\n",
              "    }\n",
              "\n",
              "    .dataframe thead th {\n",
              "        text-align: right;\n",
              "    }\n",
              "</style>\n",
              "<table border=\"1\" class=\"dataframe\">\n",
              "  <thead>\n",
              "    <tr style=\"text-align: right;\">\n",
              "      <th></th>\n",
              "      <th>Coefficient</th>\n",
              "    </tr>\n",
              "  </thead>\n",
              "  <tbody>\n",
              "    <tr>\n",
              "      <th>Bedrooms</th>\n",
              "      <td>401.199097</td>\n",
              "    </tr>\n",
              "    <tr>\n",
              "      <th>Bathrooms</th>\n",
              "      <td>797.857437</td>\n",
              "    </tr>\n",
              "    <tr>\n",
              "      <th>Sqft_Living</th>\n",
              "      <td>0.896238</td>\n",
              "    </tr>\n",
              "    <tr>\n",
              "      <th>Sqft_Lot</th>\n",
              "      <td>0.002584</td>\n",
              "    </tr>\n",
              "    <tr>\n",
              "      <th>Floors</th>\n",
              "      <td>552.313212</td>\n",
              "    </tr>\n",
              "    <tr>\n",
              "      <th>Waterfront</th>\n",
              "      <td>3899.801842</td>\n",
              "    </tr>\n",
              "    <tr>\n",
              "      <th>View</th>\n",
              "      <td>626.203238</td>\n",
              "    </tr>\n",
              "    <tr>\n",
              "      <th>Condition</th>\n",
              "      <td>80.507983</td>\n",
              "    </tr>\n",
              "    <tr>\n",
              "      <th>Grade</th>\n",
              "      <td>672.232083</td>\n",
              "    </tr>\n",
              "    <tr>\n",
              "      <th>Sqft_Above</th>\n",
              "      <td>0.853090</td>\n",
              "    </tr>\n",
              "    <tr>\n",
              "      <th>Sqft_Basement</th>\n",
              "      <td>0.879098</td>\n",
              "    </tr>\n",
              "    <tr>\n",
              "      <th>Yr_Built</th>\n",
              "      <td>2.065559</td>\n",
              "    </tr>\n",
              "    <tr>\n",
              "      <th>Yr_Renovated</th>\n",
              "      <td>0.352269</td>\n",
              "    </tr>\n",
              "    <tr>\n",
              "      <th>Zipcode</th>\n",
              "      <td>-1.043405</td>\n",
              "    </tr>\n",
              "    <tr>\n",
              "      <th>Lat</th>\n",
              "      <td>2668.765146</td>\n",
              "    </tr>\n",
              "    <tr>\n",
              "      <th>Long</th>\n",
              "      <td>190.830779</td>\n",
              "    </tr>\n",
              "    <tr>\n",
              "      <th>Sqft_Living15</th>\n",
              "      <td>1.010878</td>\n",
              "    </tr>\n",
              "    <tr>\n",
              "      <th>Sqft_Lot15</th>\n",
              "      <td>0.003619</td>\n",
              "    </tr>\n",
              "  </tbody>\n",
              "</table>\n",
              "</div>"
            ],
            "text/plain": [
              "               Coefficient\n",
              "Bedrooms        401.199097\n",
              "Bathrooms       797.857437\n",
              "Sqft_Living       0.896238\n",
              "Sqft_Lot          0.002584\n",
              "Floors          552.313212\n",
              "Waterfront     3899.801842\n",
              "View            626.203238\n",
              "Condition        80.507983\n",
              "Grade           672.232083\n",
              "Sqft_Above        0.853090\n",
              "Sqft_Basement     0.879098\n",
              "Yr_Built          2.065559\n",
              "Yr_Renovated      0.352269\n",
              "Zipcode          -1.043405\n",
              "Lat            2668.765146\n",
              "Long            190.830779\n",
              "Sqft_Living15     1.010878\n",
              "Sqft_Lot15        0.003619"
            ]
          },
          "metadata": {},
          "execution_count": 62
        }
      ]
    },
    {
      "cell_type": "markdown",
      "metadata": {
        "id": "Sa8xtzJ_NBJH"
      },
      "source": [
        "The coefficients have adjusted in the elasicnet regularized model"
      ]
    },
    {
      "cell_type": "code",
      "metadata": {
        "colab": {
          "base_uri": "https://localhost:8080/"
        },
        "id": "64m3NvZYNBJJ",
        "outputId": "7344b57a-10fb-4cbd-d106-b3b1efd08cf1"
      },
      "source": [
        "print(cross_val_score(el, x, y, cv=10, scoring=\"r2\").mean())\n",
        "print('The RMSE for Linear Regressor is : ', np.sqrt(metrics.mean_squared_error(y_test, y_pred_el)))"
      ],
      "execution_count": 63,
      "outputs": [
        {
          "output_type": "stream",
          "name": "stdout",
          "text": [
            "0.009877272542915382\n",
            "The RMSE for Linear Regressor is :  373301.905635829\n"
          ]
        }
      ]
    },
    {
      "cell_type": "markdown",
      "metadata": {
        "id": "xmmAZrxoNBJK"
      },
      "source": [
        "**Summary:**The R2 score is 0.0099 which is below 0.5. This means this model performs poorly given the data. While the RMSE of linear regression is 206599.85858395929. The RMSE of the ElasticNet model is 373301.905635829 which is a dramatic increase of the linear model."
      ]
    },
    {
      "cell_type": "code",
      "metadata": {
        "colab": {
          "base_uri": "https://localhost:8080/",
          "height": 310
        },
        "id": "9v5p13ZBNBJL",
        "outputId": "4d0bf716-26b4-42b4-b45c-b945ae3e0205"
      },
      "source": [
        "#plotting residuals for the ridge model\n",
        "residuals_el = np.subtract(y_pred_el, y_test)\n",
        "plt.scatter(y_pred_el, residuals_el, color='black')\n",
        "plt.ylabel('residual')\n",
        "plt.xlabel('fitted values')\n",
        "plt.axhline(y= residuals.mean(), color='red', linewidth=1)\n",
        "plt.show()"
      ],
      "execution_count": 64,
      "outputs": [
        {
          "output_type": "display_data",
          "data": {
            "image/png": "[encoded data removed]",
            "text/plain": [
              "<Figure size 432x288 with 1 Axes>"
            ]
          },
          "metadata": {}
        }
      ]
    },
    {
      "cell_type": "code",
      "metadata": {
        "colab": {
          "base_uri": "https://localhost:8080/"
        },
        "id": "zDPxD9sTNBJM",
        "outputId": "c0241cae-383d-4ded-b936-676579e28b07"
      },
      "source": [
        "#Checking for hetescdasticity to determine the suitability the multiple ridge regression model\n",
        "test_result, p_value = bartlett(y_pred_el,residuals_el)\n",
        "degree_of_freedom = len(y_pred_el)-1\n",
        "probability = 1 - p_value\n",
        "critical_value =chi2.ppf(probability, degree_of_freedom)\n",
        "if (test_result > critical_value):\n",
        "  print('The variances are unequal, and the model should be reassessed')\n",
        "else:\n",
        "  print('The variances are homogeneous!')"
      ],
      "execution_count": 65,
      "outputs": [
        {
          "output_type": "stream",
          "name": "stdout",
          "text": [
            "The variances are homogeneous!\n"
          ]
        }
      ]
    },
    {
      "cell_type": "markdown",
      "metadata": {
        "id": "oMkElfRDv5U5"
      },
      "source": [
        "## **Conclusion**"
      ]
    },
    {
      "cell_type": "markdown",
      "metadata": {
        "id": "azAarK2FhEpa"
      },
      "source": [
        "**Accuracy and RMSEs of Multiple Linear Regression,Quantile Regression, Ridge Regression,Lasso Regression and ElasticNet Regression respectively**"
      ]
    },
    {
      "cell_type": "code",
      "metadata": {
        "colab": {
          "base_uri": "https://localhost:8080/"
        },
        "id": "E4Mv3JFIfVZR",
        "outputId": "741daf20-b71b-4a4a-e977-934de61570aa"
      },
      "source": [
        "print(le.score(x_train,y_train))\n",
        "print('RMSE:',np.sqrt(metrics.mean_squared_error(y_test,y_pred)))\n",
        "#Linear model has an accuracy of 70%"
      ],
      "execution_count": 93,
      "outputs": [
        {
          "output_type": "stream",
          "name": "stdout",
          "text": [
            "0.6995844804628124\n",
            "RMSE: 206599.85858395929\n"
          ]
        }
      ]
    },
    {
      "cell_type": "code",
      "metadata": {
        "colab": {
          "base_uri": "https://localhost:8080/"
        },
        "id": "7z8YrHDDfcUo",
        "outputId": "e154e23a-c0bb-45a7-ef88-0a159d09beff"
      },
      "source": [
        "print(r.score(x_train,y_train))\n",
        "print('RMSE:',np.sqrt(metrics.mean_squared_error(y_test,y_pred_r)))\n",
        "#ridge model has an accuracy of 70% as well"
      ],
      "execution_count": 95,
      "outputs": [
        {
          "output_type": "stream",
          "name": "stdout",
          "text": [
            "0.6995839887433752\n",
            "RMSE: 206601.04017573106\n"
          ]
        }
      ]
    },
    {
      "cell_type": "code",
      "metadata": {
        "colab": {
          "base_uri": "https://localhost:8080/"
        },
        "id": "jF8XlxOafi-o",
        "outputId": "62b9b6aa-7c5a-4f05-ce84-770226c29218"
      },
      "source": [
        "print(l.score(x_train,y_train))\n",
        "print('RMSE:',np.sqrt(metrics.mean_squared_error(y_test,y_pred_l)))\n",
        "#lasso model has an accuracy of 70% "
      ],
      "execution_count": 96,
      "outputs": [
        {
          "output_type": "stream",
          "name": "stdout",
          "text": [
            "0.6995809856704212\n",
            "RMSE: 206588.20678078252\n"
          ]
        }
      ]
    },
    {
      "cell_type": "code",
      "metadata": {
        "colab": {
          "base_uri": "https://localhost:8080/"
        },
        "id": "eO2dI4wPfnqH",
        "outputId": "1c402fbe-9947-4093-ab93-f1aa3fbc6d47"
      },
      "source": [
        "print(el.score(x_train,y_train))\n",
        "print('RMSE:',np.sqrt(metrics.mean_squared_error(y_test,y_pred_el)))\n",
        "#The elasticnet model has an accuracy of1.6%"
      ],
      "execution_count": 97,
      "outputs": [
        {
          "output_type": "stream",
          "name": "stdout",
          "text": [
            "0.0163672742838068\n",
            "RMSE: 373301.905635829\n"
          ]
        }
      ]
    },
    {
      "cell_type": "markdown",
      "metadata": {
        "id": "6Rb2Wj-vwGQY"
      },
      "source": [
        "## **Recommendations**"
      ]
    },
    {
      "cell_type": "markdown",
      "metadata": {
        "id": "VskbTgiqj-Vy"
      },
      "source": [
        "The models linear,ridge and lasso may be used intechangably since the perform with similar accuracy. For this analysis, modeling with ElasticNet regression has been discouraged due to its poor predictive perfomance."
      ]
    }
  ]
}